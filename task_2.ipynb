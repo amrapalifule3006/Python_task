{
 "cells": [
  {
   "cell_type": "markdown",
   "id": "6e06b9fe-965e-43fa-b1f6-83d4bb5cc2d8",
   "metadata": {},
   "source": [
    "## capitalize\n"
   ]
  },
  {
   "cell_type": "code",
   "execution_count": 12,
   "id": "b17670de-eb1e-4256-8939-a8865a851354",
   "metadata": {},
   "outputs": [],
   "source": [
    "text = ' hellow_world'"
   ]
  },
  {
   "cell_type": "code",
   "execution_count": 14,
   "id": "027e6844-648d-4c71-a33f-bfb3f9a01bbc",
   "metadata": {},
   "outputs": [
    {
     "data": {
      "text/plain": [
       "' hellow_world'"
      ]
     },
     "execution_count": 14,
     "metadata": {},
     "output_type": "execute_result"
    }
   ],
   "source": [
    "text.capitalize()"
   ]
  },
  {
   "cell_type": "code",
   "execution_count": 8,
   "id": "a41a88ac-4589-46e5-870f-f3d142b91bb6",
   "metadata": {},
   "outputs": [],
   "source": [
    "newtext = 'da_15'"
   ]
  },
  {
   "cell_type": "code",
   "execution_count": 10,
   "id": "9b54c991-98fc-491f-b50c-4446b477b742",
   "metadata": {},
   "outputs": [
    {
     "data": {
      "text/plain": [
       "'Da_15'"
      ]
     },
     "execution_count": 10,
     "metadata": {},
     "output_type": "execute_result"
    }
   ],
   "source": [
    "newtext.capitalize()"
   ]
  },
  {
   "cell_type": "code",
   "execution_count": 16,
   "id": "5b135542-11ab-49dc-98d8-9c2a14d05c70",
   "metadata": {},
   "outputs": [],
   "source": [
    "text = 'this is python code'"
   ]
  },
  {
   "cell_type": "code",
   "execution_count": 18,
   "id": "5578f3bc-7951-4679-bcae-4314ec508182",
   "metadata": {},
   "outputs": [
    {
     "data": {
      "text/plain": [
       "'This is python code'"
      ]
     },
     "execution_count": 18,
     "metadata": {},
     "output_type": "execute_result"
    }
   ],
   "source": [
    "text.capitalize()"
   ]
  },
  {
   "cell_type": "code",
   "execution_count": 20,
   "id": "2ca7f023-66b4-47ec-8e09-f12b388d1788",
   "metadata": {},
   "outputs": [],
   "source": [
    "text = 'have a nice day'"
   ]
  },
  {
   "cell_type": "code",
   "execution_count": 22,
   "id": "cce8e23f-0064-410e-8497-ca28d68a17bf",
   "metadata": {},
   "outputs": [
    {
     "data": {
      "text/plain": [
       "'Have a nice day'"
      ]
     },
     "execution_count": 22,
     "metadata": {},
     "output_type": "execute_result"
    }
   ],
   "source": [
    "text.capitalize()"
   ]
  },
  {
   "cell_type": "code",
   "execution_count": 24,
   "id": "ff3ff3c3-d590-48ac-9098-8630d4a54421",
   "metadata": {},
   "outputs": [],
   "source": [
    "text = 'wellcome '"
   ]
  },
  {
   "cell_type": "code",
   "execution_count": 26,
   "id": "b0595a3b-c6c6-4ecd-a109-4039b580b1f9",
   "metadata": {},
   "outputs": [
    {
     "data": {
      "text/plain": [
       "'Wellcome '"
      ]
     },
     "execution_count": 26,
     "metadata": {},
     "output_type": "execute_result"
    }
   ],
   "source": [
    "text.capitalize()"
   ]
  },
  {
   "cell_type": "markdown",
   "id": "7a79e32b-89f3-49f6-b846-83eba059ffce",
   "metadata": {},
   "source": [
    "## casefold"
   ]
  },
  {
   "cell_type": "code",
   "execution_count": 61,
   "id": "09a9669e-cffd-4e27-99a5-d9b870192165",
   "metadata": {},
   "outputs": [],
   "source": [
    "text = 'HELLOW WORLD'"
   ]
  },
  {
   "cell_type": "code",
   "execution_count": 63,
   "id": "069b4eed-2168-4cb0-bdd9-73971320b8f3",
   "metadata": {},
   "outputs": [
    {
     "data": {
      "text/plain": [
       "'hellow world'"
      ]
     },
     "execution_count": 63,
     "metadata": {},
     "output_type": "execute_result"
    }
   ],
   "source": [
    "text.casefold()"
   ]
  },
  {
   "cell_type": "code",
   "execution_count": 65,
   "id": "67610c1e-06ef-4e12-a065-f443730cfbca",
   "metadata": {},
   "outputs": [],
   "source": [
    "newtext = 'DA_15'"
   ]
  },
  {
   "cell_type": "code",
   "execution_count": 67,
   "id": "37aaab49-c2d8-4563-86ac-647f494a9a78",
   "metadata": {},
   "outputs": [
    {
     "data": {
      "text/plain": [
       "'da_15'"
      ]
     },
     "execution_count": 67,
     "metadata": {},
     "output_type": "execute_result"
    }
   ],
   "source": [
    "newtext.casefold()"
   ]
  },
  {
   "cell_type": "code",
   "execution_count": 83,
   "id": "53c799ba-6a5a-4fff-976d-768757f19b10",
   "metadata": {},
   "outputs": [],
   "source": [
    "text = 'HAVE A NICE DAY'"
   ]
  },
  {
   "cell_type": "code",
   "execution_count": 85,
   "id": "97094598-7d66-449f-bcd8-5176ee724646",
   "metadata": {},
   "outputs": [
    {
     "data": {
      "text/plain": [
       "'have a nice day'"
      ]
     },
     "execution_count": 85,
     "metadata": {},
     "output_type": "execute_result"
    }
   ],
   "source": [
    "text.casefold()"
   ]
  },
  {
   "cell_type": "code",
   "execution_count": 73,
   "id": "a19e75cf-a002-47e2-9d8a-fbad5f5e4274",
   "metadata": {},
   "outputs": [],
   "source": [
    "text = 'WELLCOME'"
   ]
  },
  {
   "cell_type": "code",
   "execution_count": 81,
   "id": "46dadd1c-9bd2-4b6b-bf35-ea1e97ca3e4f",
   "metadata": {},
   "outputs": [
    {
     "data": {
      "text/plain": [
       "'wellcome'"
      ]
     },
     "execution_count": 81,
     "metadata": {},
     "output_type": "execute_result"
    }
   ],
   "source": [
    "text.casefold()"
   ]
  },
  {
   "cell_type": "code",
   "execution_count": 91,
   "id": "e936f689-1bb0-43d5-b37e-7c2e56b62a27",
   "metadata": {},
   "outputs": [],
   "source": [
    "text ='THIS IS PYTHON CODE'"
   ]
  },
  {
   "cell_type": "code",
   "execution_count": 93,
   "id": "9559ce9a-ae13-4460-9451-407be069d9a2",
   "metadata": {},
   "outputs": [
    {
     "data": {
      "text/plain": [
       "'this is python code'"
      ]
     },
     "execution_count": 93,
     "metadata": {},
     "output_type": "execute_result"
    }
   ],
   "source": [
    "text.casefold()"
   ]
  },
  {
   "cell_type": "markdown",
   "id": "61322e67-78e9-4ce5-9598-7b616b6ea1b6",
   "metadata": {},
   "source": [
    "## center"
   ]
  },
  {
   "cell_type": "code",
   "execution_count": 5,
   "id": "7bd9a249-0817-4149-899a-3cf939364319",
   "metadata": {},
   "outputs": [],
   "source": [
    "text = 'PYTHON'"
   ]
  },
  {
   "cell_type": "code",
   "execution_count": 10,
   "id": "30715f3b-15fb-4c0a-8b17-bc607ab51f13",
   "metadata": {},
   "outputs": [
    {
     "name": "stdout",
     "output_type": "stream",
     "text": [
      "       PYTHON       \n"
     ]
    }
   ],
   "source": [
    " center_text = text.center(20)\n",
    "print(center_text)"
   ]
  },
  {
   "cell_type": "code",
   "execution_count": 12,
   "id": "abefbdc9-00d2-4a5f-a9c2-e6c49c1aaffa",
   "metadata": {},
   "outputs": [],
   "source": [
    "text = 'HELLOW'"
   ]
  },
  {
   "cell_type": "code",
   "execution_count": 14,
   "id": "fca9bce9-6ce6-4d85-949f-cf262c8ae9aa",
   "metadata": {},
   "outputs": [
    {
     "name": "stdout",
     "output_type": "stream",
     "text": [
      "-------HELLOW------\n"
     ]
    }
   ],
   "source": [
    "center_text = text.center(19,'-')\n",
    "print(center_text)"
   ]
  },
  {
   "cell_type": "code",
   "execution_count": 34,
   "id": "1a081ad6-eae4-4ff7-9665-7f8a76779ebc",
   "metadata": {},
   "outputs": [],
   "source": [
    "text = \"WELLCOME\""
   ]
  },
  {
   "cell_type": "code",
   "execution_count": 38,
   "id": "9d8df54a-1844-4af6-a294-fb53d8066920",
   "metadata": {},
   "outputs": [
    {
     "name": "stdout",
     "output_type": "stream",
     "text": [
      "******WELLCOME******\n"
     ]
    }
   ],
   "source": [
    "center_text = text.center(20,\"*\")\n",
    "print(center_text)"
   ]
  },
  {
   "cell_type": "code",
   "execution_count": 40,
   "id": "c4c541b6-8439-44c9-aab1-6c1bdb497bbf",
   "metadata": {},
   "outputs": [],
   "source": [
    "text = \"B\""
   ]
  },
  {
   "cell_type": "code",
   "execution_count": 42,
   "id": "2b2195a6-e40a-40b2-8400-908ab1450d2e",
   "metadata": {},
   "outputs": [
    {
     "name": "stdout",
     "output_type": "stream",
     "text": [
      "==============B===============\n"
     ]
    }
   ],
   "source": [
    "center_text =text.center(30, \"=\")\n",
    "print(center_text)"
   ]
  },
  {
   "cell_type": "code",
   "execution_count": 44,
   "id": "be665a0e-f246-487e-aeeb-e7af8b3f0987",
   "metadata": {},
   "outputs": [],
   "source": [
    "text = \"Jupyter\"\n"
   ]
  },
  {
   "cell_type": "code",
   "execution_count": 46,
   "id": "083bfb3b-11f7-4dd8-9d75-0594538b4171",
   "metadata": {},
   "outputs": [
    {
     "name": "stdout",
     "output_type": "stream",
     "text": [
      "Width 10: '.Jupyter..'\n",
      "Width 15: '....Jupyter....'\n",
      "Width 20: '......Jupyter.......'\n"
     ]
    }
   ],
   "source": [
    "widths = [10, 15, 20]\n",
    "for w in widths:\n",
    "    print(f\"Width {w}: '{text.center(w, '.')}'\")\n"
   ]
  },
  {
   "cell_type": "markdown",
   "id": "0aed3540-e9b5-4727-b4aa-d89c6f82e65b",
   "metadata": {},
   "source": [
    "## COUNT"
   ]
  },
  {
   "cell_type": "code",
   "execution_count": 66,
   "id": "de173778-d823-4e51-a09e-4f7be9b8ba85",
   "metadata": {},
   "outputs": [],
   "source": [
    "Numbers = [1,2,3,4,5,6,7,2,9,10]"
   ]
  },
  {
   "cell_type": "code",
   "execution_count": 68,
   "id": "951a286f-b624-460d-96f4-b728b57b275c",
   "metadata": {},
   "outputs": [
    {
     "name": "stdout",
     "output_type": "stream",
     "text": [
      "Number 2 appears 2 times in the list\n"
     ]
    }
   ],
   "source": [
    "count_2 = Numbers.count(2)\n",
    "print(f\"Number 2 appears {count_2} times in the list\")"
   ]
  },
  {
   "cell_type": "code",
   "execution_count": 70,
   "id": "82f22aa6-81a1-41e6-9761-38b34c36a6ab",
   "metadata": {},
   "outputs": [],
   "source": [
    "text = \"HELLOW WORLD\""
   ]
  },
  {
   "cell_type": "code",
   "execution_count": 74,
   "id": "25fbcea6-ef31-49f7-b7d8-db0f3502fbf9",
   "metadata": {},
   "outputs": [
    {
     "name": "stdout",
     "output_type": "stream",
     "text": [
      "the letter L appears 3 time in the string\n"
     ]
    }
   ],
   "source": [
    "count_1 = text.count(\"L\")\n",
    "print(f\"the letter L appears {count_1} time in the string\")"
   ]
  },
  {
   "cell_type": "code",
   "execution_count": 76,
   "id": "cb512464-62d3-480d-bb64-16d729dece29",
   "metadata": {},
   "outputs": [],
   "source": [
    "sentence = \"apple banana apple orange apple banana\""
   ]
  },
  {
   "cell_type": "code",
   "execution_count": 78,
   "id": "2dcc5af6-45ad-4861-b7d7-2e7a939030ee",
   "metadata": {},
   "outputs": [
    {
     "name": "stdout",
     "output_type": "stream",
     "text": [
      "The word 'apple' appears 3 times in the sentence.\n"
     ]
    }
   ],
   "source": [
    "count_apple = sentence.count(\"apple\")\n",
    "print(f\"The word 'apple' appears {count_apple} times in the sentence.\")"
   ]
  },
  {
   "cell_type": "code",
   "execution_count": 80,
   "id": "84d31f50-7f4a-456a-b39d-31f5f697068b",
   "metadata": {},
   "outputs": [],
   "source": [
    "paragraph = \"Python is great. Python is fun. Python is powerful.\""
   ]
  },
  {
   "cell_type": "code",
   "execution_count": 82,
   "id": "bc26fbcc-c695-46ca-ad2f-5a682fef0354",
   "metadata": {},
   "outputs": [
    {
     "name": "stdout",
     "output_type": "stream",
     "text": [
      "The word 'Python' appears 3 times in the paragraph.\n"
     ]
    }
   ],
   "source": [
    "count_python = paragraph.count(\"Python\")\n",
    "print(f\"The word 'Python' appears {count_python} times in the paragraph.\")"
   ]
  },
  {
   "cell_type": "code",
   "execution_count": 84,
   "id": "24840236-cc8f-414b-9194-fc4c2919d59e",
   "metadata": {},
   "outputs": [],
   "source": [
    "colors = ('red', 'blue', 'green', 'red', 'yellow', 'red')"
   ]
  },
  {
   "cell_type": "code",
   "execution_count": 86,
   "id": "b5cf2428-790b-4cf2-996c-ba4e312573a5",
   "metadata": {},
   "outputs": [
    {
     "name": "stdout",
     "output_type": "stream",
     "text": [
      "The color 'red' appears 3 times in the tuple.\n"
     ]
    }
   ],
   "source": [
    "count_red = colors.count('red')\n",
    "print(f\"The color 'red' appears {count_red} times in the tuple.\")"
   ]
  },
  {
   "cell_type": "markdown",
   "id": "b8591ead-a934-46a6-89bf-3aa51ea5ca9c",
   "metadata": {},
   "source": [
    "## encode"
   ]
  },
  {
   "cell_type": "code",
   "execution_count": 108,
   "id": "dd490ff3-acd8-4f0c-8773-ef7d6927a66a",
   "metadata": {},
   "outputs": [],
   "source": [
    " ### Encoding a String to UTF-8 (Default)"
   ]
  },
  {
   "cell_type": "code",
   "execution_count": 104,
   "id": "4c86765d-0131-4a88-b86f-85a4852e099a",
   "metadata": {},
   "outputs": [],
   "source": [
    "text = \"HELLOW, WORLD!\""
   ]
  },
  {
   "cell_type": "code",
   "execution_count": 106,
   "id": "3364b0c8-842f-4e6d-a873-cd0504166f53",
   "metadata": {},
   "outputs": [
    {
     "name": "stdout",
     "output_type": "stream",
     "text": [
      "b'HELLOW, WORLD!'\n"
     ]
    }
   ],
   "source": [
    "encode_text = text.encode()\n",
    "print(encode_text)"
   ]
  },
  {
   "cell_type": "code",
   "execution_count": 110,
   "id": "368258d6-9c1c-4041-948d-c04544f41897",
   "metadata": {},
   "outputs": [],
   "source": [
    "### Encoding with a Different Encoding (ASCII)"
   ]
  },
  {
   "cell_type": "code",
   "execution_count": 116,
   "id": "0c810b4b-3816-4b6d-b71c-60f9e05a7870",
   "metadata": {},
   "outputs": [],
   "source": [
    "text = \"Python Encoding\""
   ]
  },
  {
   "cell_type": "code",
   "execution_count": 118,
   "id": "7f38661e-84c0-4a9c-ae95-4eaa123aec40",
   "metadata": {},
   "outputs": [
    {
     "name": "stdout",
     "output_type": "stream",
     "text": [
      "b'Python Encoding'\n"
     ]
    }
   ],
   "source": [
    "encoded_text = text.encode(\"ascii\")\n",
    "print(encoded_text)"
   ]
  },
  {
   "cell_type": "code",
   "execution_count": null,
   "id": "043a945e-425a-4b64-9122-39690d6cd75c",
   "metadata": {},
   "outputs": [],
   "source": [
    "### Encoding with Error Handling (ignore)"
   ]
  },
  {
   "cell_type": "code",
   "execution_count": 120,
   "id": "234a9219-6915-4080-8f5b-40c179055da4",
   "metadata": {},
   "outputs": [],
   "source": [
    "text = \"cafe\""
   ]
  },
  {
   "cell_type": "code",
   "execution_count": 128,
   "id": "b2fe16c9-002c-4f67-94cc-022ced18ec33",
   "metadata": {},
   "outputs": [
    {
     "name": "stdout",
     "output_type": "stream",
     "text": [
      "b'cafe'\n"
     ]
    }
   ],
   "source": [
    "encode_text = text.encode(\"ascii\" , errors = \"cafe\")\n",
    "print(encode_text)"
   ]
  },
  {
   "cell_type": "code",
   "execution_count": 132,
   "id": "cf74f75b-a08a-4b2e-9c78-863767c75104",
   "metadata": {},
   "outputs": [],
   "source": [
    " ### Encoding with Error Handling (replace)"
   ]
  },
  {
   "cell_type": "code",
   "execution_count": 142,
   "id": "a78fb91c-b131-4e17-b5d5-2745602945b8",
   "metadata": {},
   "outputs": [],
   "source": [
    "text = \"cafe\""
   ]
  },
  {
   "cell_type": "code",
   "execution_count": 144,
   "id": "17fca31b-4171-48b7-bec4-7ab77ce5b0ec",
   "metadata": {},
   "outputs": [
    {
     "name": "stdout",
     "output_type": "stream",
     "text": [
      "b'cafe'\n"
     ]
    }
   ],
   "source": [
    "encode_text = text.encode(\"ascii\" , errors = \"replace\")\n",
    "print(encode_text)"
   ]
  },
  {
   "cell_type": "code",
   "execution_count": null,
   "id": "09f39aba-e954-4315-9647-342adf252ef7",
   "metadata": {},
   "outputs": [],
   "source": [
    "### Encoding with Error Handling (xmlcharrefreplace)"
   ]
  },
  {
   "cell_type": "code",
   "execution_count": 146,
   "id": "4ee7f8c2-fe76-48fd-b256-2cec15040e42",
   "metadata": {},
   "outputs": [],
   "source": [
    "text = \"cafe\""
   ]
  },
  {
   "cell_type": "code",
   "execution_count": 150,
   "id": "f3797ace-49ef-4553-b365-2802b6ee32c2",
   "metadata": {},
   "outputs": [
    {
     "name": "stdout",
     "output_type": "stream",
     "text": [
      "b'cafe'\n"
     ]
    }
   ],
   "source": [
    "encode_text = text.encode(\"ascii\", errors = \"xmlcharrefreplace\")\n",
    "print(encode_text)"
   ]
  },
  {
   "cell_type": "markdown",
   "id": "24a043c4-c37a-40f1-a23a-c9de6be93d22",
   "metadata": {},
   "source": [
    "## endswith"
   ]
  },
  {
   "cell_type": "code",
   "execution_count": null,
   "id": "06ca12f0-6455-4c37-a02d-0689a0f3130d",
   "metadata": {},
   "outputs": [],
   "source": [
    " ### Basic usage with a string"
   ]
  },
  {
   "cell_type": "code",
   "execution_count": 166,
   "id": "3a4b898a-5cf5-4428-8920-6a16ded62eec",
   "metadata": {},
   "outputs": [
    {
     "name": "stdout",
     "output_type": "stream",
     "text": [
      "True\n"
     ]
    }
   ],
   "source": [
    "string_1 = \"HELLOW WORLD\"\n",
    "print(string_1.endswith(\"WORLD\"))"
   ]
  },
  {
   "cell_type": "code",
   "execution_count": 168,
   "id": "52afc2f6-d8e1-4429-98a1-48858d0e6030",
   "metadata": {},
   "outputs": [
    {
     "name": "stdout",
     "output_type": "stream",
     "text": [
      "True\n"
     ]
    }
   ],
   "source": [
    "## Checking with a different suffix"
   ]
  },
  {
   "cell_type": "code",
   "execution_count": 168,
   "id": "0756abe5",
   "metadata": {},
   "outputs": [
    {
     "name": "stdout",
     "output_type": "stream",
     "text": [
      "True\n"
     ]
    }
   ],
   "source": [
    "string_2 = \"PYTHON PROGRAMMING\"\n",
    "print(string_2.endswith(\"ING\"))"
   ]
  },
  {
   "cell_type": "code",
   "execution_count": 170,
   "id": "0804e403-f22f-4146-a566-909b073fab1d",
   "metadata": {},
   "outputs": [],
   "source": [
    "## Using a tuple to check multiple suffixes"
   ]
  },
  {
   "cell_type": "code",
   "execution_count": 180,
   "id": "466ee32f-06bd-4367-af4f-f22642e02365",
   "metadata": {},
   "outputs": [
    {
     "name": "stdout",
     "output_type": "stream",
     "text": [
      "True\n"
     ]
    }
   ],
   "source": [
    "string_3 = \"DATA ANALYSIS.csv\"\n",
    "print(string_3.endswith((\".csv\",\".xlsx\")))"
   ]
  },
  {
   "cell_type": "code",
   "execution_count": null,
   "id": "bff36840-2f37-4a60-869d-2310ba2741e2",
   "metadata": {},
   "outputs": [],
   "source": [
    "### Using the start and end parameters"
   ]
  },
  {
   "cell_type": "code",
   "execution_count": 182,
   "id": "2927d799-3fa3-40ae-b899-37f0124fbd77",
   "metadata": {},
   "outputs": [
    {
     "name": "stdout",
     "output_type": "stream",
     "text": [
      "False\n"
     ]
    }
   ],
   "source": [
    "string_4 = \"machine learning model\"\n",
    "print(string_4.endswith(\"learning\", 0 , 14))"
   ]
  },
  {
   "cell_type": "code",
   "execution_count": null,
   "id": "a87ac595-42ab-4c3b-a05d-993312901025",
   "metadata": {},
   "outputs": [],
   "source": [
    "## Case sensitivity in endswith()"
   ]
  },
  {
   "cell_type": "code",
   "execution_count": 184,
   "id": "6c8bf8d5-fa02-4fe2-aa6e-20b656dfe5eb",
   "metadata": {},
   "outputs": [
    {
     "name": "stdout",
     "output_type": "stream",
     "text": [
      "False\n",
      "True\n"
     ]
    }
   ],
   "source": [
    "string5 = \"Report.PDF\"\n",
    "print(string5.endswith(\".pdf\")) \n",
    "print(string5.lower().endswith(\".pdf\")) "
   ]
  },
  {
   "cell_type": "markdown",
   "id": "8ad991df-bec2-4531-bbe2-e093202ec2e4",
   "metadata": {},
   "source": [
    "## expandtabs"
   ]
  },
  {
   "cell_type": "code",
   "execution_count": 207,
   "id": "b47f8bd5-9188-4616-8bd4-5a130942e268",
   "metadata": {},
   "outputs": [
    {
     "name": "stdout",
     "output_type": "stream",
     "text": [
      "HELLOW  WORLD\n"
     ]
    }
   ],
   "source": [
    "text = \"HELLOW\\tWORLD\"\n",
    "print(text.expandtabs())"
   ]
  },
  {
   "cell_type": "code",
   "execution_count": null,
   "id": "e4304ff9-6df0-4ae8-950c-2330dda9658a",
   "metadata": {},
   "outputs": [],
   "source": [
    "## Using a Custom Tab Size"
   ]
  },
  {
   "cell_type": "code",
   "execution_count": 213,
   "id": "dea97c18-54c8-4da8-8b40-03550084581a",
   "metadata": {},
   "outputs": [
    {
     "name": "stdout",
     "output_type": "stream",
     "text": [
      "PYTHON  IS  FUN\n"
     ]
    }
   ],
   "source": [
    "text = \"PYTHON\\tIS\\tFUN\"\n",
    "print(text.expandtabs(4))"
   ]
  },
  {
   "cell_type": "code",
   "execution_count": 215,
   "id": "1a7d9fc7-6db8-4a03-8383-1f22bcbd337a",
   "metadata": {},
   "outputs": [],
   "source": [
    "## Multiple Tabs with Different Spacing"
   ]
  },
  {
   "cell_type": "code",
   "execution_count": 217,
   "id": "f1949fe2-c5ea-4dd1-8323-0b6a204ceb4b",
   "metadata": {},
   "outputs": [
    {
     "name": "stdout",
     "output_type": "stream",
     "text": [
      "a         b         c\n"
     ]
    }
   ],
   "source": [
    "text = \"a\\tb\\tc\"\n",
    "print(text.expandtabs(10))"
   ]
  },
  {
   "cell_type": "code",
   "execution_count": null,
   "id": "29d1ea10-8eb3-43b5-bebf-d7918cc282d9",
   "metadata": {},
   "outputs": [],
   "source": [
    "## Tabs in Multiline String"
   ]
  },
  {
   "cell_type": "code",
   "execution_count": 219,
   "id": "c6790fc7-2608-42f1-8500-959b6057421d",
   "metadata": {},
   "outputs": [
    {
     "name": "stdout",
     "output_type": "stream",
     "text": [
      "line1:      hellow\n",
      "line2:      world\n"
     ]
    }
   ],
   "source": [
    "text = \"line1:\\thellow\\nline2:\\tworld\"\n",
    "print(text.expandtabs(6))"
   ]
  },
  {
   "cell_type": "code",
   "execution_count": 221,
   "id": "d733206e-9b3c-4119-b338-84c7fb6a295e",
   "metadata": {},
   "outputs": [],
   "source": [
    "##  Tabs Affecting Alignment\n"
   ]
  },
  {
   "cell_type": "code",
   "execution_count": 225,
   "id": "46dc02f3-8d56-4d06-81aa-cfd5d8f2669b",
   "metadata": {},
   "outputs": [
    {
     "name": "stdout",
     "output_type": "stream",
     "text": [
      "Name        age         city        XYZ         26          Pune\n"
     ]
    }
   ],
   "source": [
    "text = \"Name\\tage\\tcity\\tXYZ\\t26\\tPune\"\n",
    "print(text.expandtabs(12))"
   ]
  },
  {
   "cell_type": "markdown",
   "id": "08c15dbd-9d99-46a0-a350-bc8eaaeed8f1",
   "metadata": {},
   "source": [
    "## find"
   ]
  },
  {
   "cell_type": "code",
   "execution_count": 228,
   "id": "859de5e0-8cf8-4102-a100-bfde1b80721e",
   "metadata": {},
   "outputs": [],
   "source": [
    "## Finding a Substring in a String"
   ]
  },
  {
   "cell_type": "code",
   "execution_count": 230,
   "id": "6343c083-a157-41cd-b87c-4a9f3def5239",
   "metadata": {},
   "outputs": [
    {
     "name": "stdout",
     "output_type": "stream",
     "text": [
      "'jupyter' found of index:-1\n"
     ]
    }
   ],
   "source": [
    "text = \"Hellow, Wellcome to Jupyter notebook!\"\n",
    "position = text.find(\"jupyter\")\n",
    "print(f\"'jupyter' found of index:{position}\")"
   ]
  },
  {
   "cell_type": "code",
   "execution_count": 232,
   "id": "19c9468b-6714-409b-82bb-0dfe48a78451",
   "metadata": {},
   "outputs": [],
   "source": [
    "## Handling a Substring Not Found"
   ]
  },
  {
   "cell_type": "code",
   "execution_count": 249,
   "id": "036da064-85ed-4fde-83e4-a8ad0269ef50",
   "metadata": {},
   "outputs": [
    {
     "name": "stdout",
     "output_type": "stream",
     "text": [
      "substring not found\n"
     ]
    }
   ],
   "source": [
    "text = \"Python is great for data science.\"\n",
    "postion = text.find(\"jupyter\")\n",
    "if position ==-1:\n",
    "    print(\"substring not found\")\n",
    "else:\n",
    "    print(f\"substring found and index:{position}\")\n"
   ]
  },
  {
   "cell_type": "code",
   "execution_count": 251,
   "id": "f4d753a7-54e7-4b84-919a-066340b7651b",
   "metadata": {},
   "outputs": [],
   "source": [
    "## Finding the First Occurrence in a List of Strings|"
   ]
  },
  {
   "cell_type": "code",
   "execution_count": 253,
   "id": "e424deef-3e08-4f51-8935-9730bd3d0b03",
   "metadata": {},
   "outputs": [
    {
     "name": "stdout",
     "output_type": "stream",
     "text": [
      "Found 'Python' in sentence 1: Python is amazing\n"
     ]
    }
   ],
   "source": [
    "sentences = [\"Data science is fun\", \"Python is amazing\", \"Jupyter notebooks are useful\"]\n",
    "word_to_find = \"Python\"\n",
    "\n",
    "for i, sentence in enumerate(sentences):\n",
    "    if sentence.find(word_to_find) != -1:\n",
    "        print(f\"Found '{word_to_find}' in sentence {i}: {sentence}\")\n"
   ]
  },
  {
   "cell_type": "code",
   "execution_count": null,
   "id": "cf98639b-93ed-4a00-b0cb-4709182a31ae",
   "metadata": {},
   "outputs": [],
   "source": [
    "## Finding a Substring with Start and End Index"
   ]
  },
  {
   "cell_type": "code",
   "execution_count": 255,
   "id": "f84f8900-704c-48cb-bf94-1417172a23e4",
   "metadata": {},
   "outputs": [
    {
     "name": "stdout",
     "output_type": "stream",
     "text": [
      "'subset' found at index: 22\n"
     ]
    }
   ],
   "source": [
    "text = \"Machine learning is a subset of AI\"\n",
    "position = text.find(\"subset\", 10, 30)  # Search between index 10 and 30\n",
    "print(f\"'subset' found at index: {position}\")\n"
   ]
  },
  {
   "cell_type": "code",
   "execution_count": null,
   "id": "49ee8f27-cbd0-423c-8fa5-29a4db160de5",
   "metadata": {},
   "outputs": [],
   "source": [
    "## Finding Multiple Occurrences of a Substring"
   ]
  },
  {
   "cell_type": "code",
   "execution_count": 257,
   "id": "f7e31e13-dcbb-4350-90c8-c930eca1df5f",
   "metadata": {},
   "outputs": [
    {
     "name": "stdout",
     "output_type": "stream",
     "text": [
      "'apple' found at index: 0\n",
      "'apple' found at index: 13\n",
      "'apple' found at index: 26\n"
     ]
    }
   ],
   "source": [
    "text = \"apple banana apple orange apple\"\n",
    "index = 0\n",
    "\n",
    "while index != -1:\n",
    "    index = text.find(\"apple\", index)\n",
    "    if index != -1:\n",
    "        print(f\"'apple' found at index: {index}\")\n",
    "        index += 1  # Move past the found occurrence\n"
   ]
  },
  {
   "cell_type": "markdown",
   "id": "8f766f1e-e2d9-4648-ab2f-a02d487dce30",
   "metadata": {},
   "source": [
    "## Format"
   ]
  },
  {
   "cell_type": "code",
   "execution_count": 273,
   "id": "7b0234f8-11dc-43f4-b2fa-dcee3b099b5b",
   "metadata": {},
   "outputs": [],
   "source": [
    "## Basic String "
   ]
  },
  {
   "cell_type": "code",
   "execution_count": 275,
   "id": "e74fd1cb-02bf-46fb-ace4-7d3d391a7f6c",
   "metadata": {},
   "outputs": [
    {
     "name": "stdout",
     "output_type": "stream",
     "text": [
      "My name  is XYZ AND I am 23 year old.\n"
     ]
    }
   ],
   "source": [
    "name = \"XYZ\"\n",
    "age = 23\n",
    "print(\"My name  is {} AND I am {} year old.\".format(name,age))"
   ]
  },
  {
   "cell_type": "code",
   "execution_count": 277,
   "id": "0ad74082-bd85-4482-99f4-9360c0465cab",
   "metadata": {},
   "outputs": [],
   "source": [
    "## Positional Arguments"
   ]
  },
  {
   "cell_type": "code",
   "execution_count": 279,
   "id": "7b8b14db-11f7-4948-8ec0-5f0fe55adacd",
   "metadata": {},
   "outputs": [
    {
     "name": "stdout",
     "output_type": "stream",
     "text": [
      "Bob is learning Python\n"
     ]
    }
   ],
   "source": [
    "print(\"{1} is learning {0}\".format(\"Python\", \"Bob\"))"
   ]
  },
  {
   "cell_type": "code",
   "execution_count": 281,
   "id": "5284855e-1d51-496b-a4f0-6fd3b0108564",
   "metadata": {},
   "outputs": [],
   "source": [
    "## Named Arguments"
   ]
  },
  {
   "cell_type": "code",
   "execution_count": 283,
   "id": "6b158fa9-e139-48a7-a065-425163215679",
   "metadata": {},
   "outputs": [
    {
     "name": "stdout",
     "output_type": "stream",
     "text": [
      "The capital of France is Paris.\n"
     ]
    }
   ],
   "source": [
    "print(\"The capital of {country} is {capital}.\".format(country=\"France\", capital=\"Paris\"))"
   ]
  },
  {
   "cell_type": "code",
   "execution_count": 285,
   "id": "35e9f78e-a8d1-4a30-91ab-9166859577ca",
   "metadata": {},
   "outputs": [],
   "source": [
    "##  Formatting Numbers"
   ]
  },
  {
   "cell_type": "code",
   "execution_count": 287,
   "id": "06a5d620-2f3d-4fbc-bf17-0a00efe9ab2b",
   "metadata": {},
   "outputs": [
    {
     "name": "stdout",
     "output_type": "stream",
     "text": [
      "The value of pi up to 3 decimal places: 3.142\n"
     ]
    }
   ],
   "source": [
    "pi = 3.141592653589793\n",
    "print(\"The value of pi up to 3 decimal places: {:.3f}\".format(pi))"
   ]
  },
  {
   "cell_type": "code",
   "execution_count": 289,
   "id": "58bccca8-cb41-48f4-9665-55e10f231d56",
   "metadata": {},
   "outputs": [],
   "source": [
    "## Padding and Alignment"
   ]
  },
  {
   "cell_type": "code",
   "execution_count": 291,
   "id": "5849b490-8f7d-4cb4-bd6a-ff17448f7615",
   "metadata": {},
   "outputs": [
    {
     "name": "stdout",
     "output_type": "stream",
     "text": [
      "Left aligned: Apple     \n",
      "Right aligned:      Apple\n",
      "Center aligned:   Apple   \n"
     ]
    }
   ],
   "source": [
    "print(\"Left aligned: {:<10}\".format(\"Apple\"))\n",
    "print(\"Right aligned: {:>10}\".format(\"Apple\"))\n",
    "print(\"Center aligned: {:^10}\".format(\"Apple\"))"
   ]
  },
  {
   "cell_type": "markdown",
   "id": "44bea109-00b1-46fb-a342-e3c376d0572f",
   "metadata": {},
   "source": [
    "## Format_map"
   ]
  },
  {
   "cell_type": "code",
   "execution_count": 305,
   "id": "df909037-f83a-4e65-bea3-1d644527939f",
   "metadata": {},
   "outputs": [],
   "source": [
    "## basic"
   ]
  },
  {
   "cell_type": "code",
   "execution_count": 313,
   "id": "14a5759b-3f72-42dd-ad21-8c98da2a5d52",
   "metadata": {},
   "outputs": [
    {
     "name": "stdout",
     "output_type": "stream",
     "text": [
      "MY name is XYZ and I am 24year old.\n"
     ]
    }
   ],
   "source": [
    "data = {'name' : 'XYZ', 'age' : 24}\n",
    "result = \"MY name is {name} and I am {age}year old.\".format_map(data)\n",
    "print(result)"
   ]
  },
  {
   "cell_type": "code",
   "execution_count": 315,
   "id": "3af814e2-c9b8-4033-9f45-ae07b4bf412c",
   "metadata": {},
   "outputs": [],
   "source": [
    "##  Using format_map() with DefaultDict"
   ]
  },
  {
   "cell_type": "code",
   "execution_count": 317,
   "id": "7089288a-912f-4c18-9f29-02442473fc1d",
   "metadata": {},
   "outputs": [
    {
     "name": "stdout",
     "output_type": "stream",
     "text": [
      "My name is Bob and I am from Unknown.\n"
     ]
    }
   ],
   "source": [
    "from collections import defaultdict\n",
    "\n",
    "data = defaultdict(lambda: 'Unknown', {'name': 'Bob'})\n",
    "result = \"My name is {name} and I am from {city}.\".format_map(data)\n",
    "print(result)"
   ]
  },
  {
   "cell_type": "code",
   "execution_count": 319,
   "id": "35cd793e-fa35-453a-b237-19b1d33e03bc",
   "metadata": {},
   "outputs": [],
   "source": [
    "## Using a Custom Class with __missing__"
   ]
  },
  {
   "cell_type": "code",
   "execution_count": 321,
   "id": "235acc99-ecad-4d72-a79d-8d5addaad1d0",
   "metadata": {},
   "outputs": [
    {
     "name": "stdout",
     "output_type": "stream",
     "text": [
      "Hello, Charlie. Your status is <status not found>.\n"
     ]
    }
   ],
   "source": [
    "class DefaultDict(dict):\n",
    "    def __missing__(self, key):\n",
    "        return f'<{key} not found>'\n",
    "\n",
    "data = DefaultDict(name='Charlie')\n",
    "result = \"Hello, {name}. Your status is {status}.\".format_map(data)\n",
    "print(result)"
   ]
  },
  {
   "cell_type": "code",
   "execution_count": 323,
   "id": "b953f270-31b9-49fe-83a2-f20cb64efe47",
   "metadata": {},
   "outputs": [],
   "source": [
    "## Formatting with Numbers"
   ]
  },
  {
   "cell_type": "code",
   "execution_count": 325,
   "id": "5f968108-70af-4be2-a33b-38cac2208af1",
   "metadata": {},
   "outputs": [
    {
     "name": "stdout",
     "output_type": "stream",
     "text": [
      "The Laptop costs $1200.50.\n"
     ]
    }
   ],
   "source": [
    "data = {'product': 'Laptop', 'price': 1200.50}\n",
    "result = \"The {product} costs ${price:.2f}.\".format_map(data)\n",
    "print(result)"
   ]
  },
  {
   "cell_type": "code",
   "execution_count": 327,
   "id": "0fea096d-a05a-4f51-8aa9-a47aab77e3d1",
   "metadata": {},
   "outputs": [],
   "source": [
    "## Nested Dictionary (Using ChainMap)"
   ]
  },
  {
   "cell_type": "code",
   "execution_count": 329,
   "id": "03230a06-104a-4430-99b2-58ee25cb0c57",
   "metadata": {},
   "outputs": [
    {
     "name": "stdout",
     "output_type": "stream",
     "text": [
      "David is N/A years old and lives in New York.\n"
     ]
    }
   ],
   "source": [
    "from collections import ChainMap\n",
    "\n",
    "defaults = {'name': 'Unknown', 'age': 'N/A'}\n",
    "user_data = {'name': 'David', 'city': 'New York'}\n",
    "\n",
    "combined = ChainMap(user_data, defaults)\n",
    "result = \"{name} is {age} years old and lives in {city}.\".format_map(combined)\n",
    "print(result)"
   ]
  },
  {
   "cell_type": "markdown",
   "id": "68e6334f-d385-4deb-b52c-7dc694bf1720",
   "metadata": {},
   "source": [
    "## Index"
   ]
  },
  {
   "cell_type": "code",
   "execution_count": 347,
   "id": "2163fedb-b935-44dc-9c17-60f7e1c7caeb",
   "metadata": {},
   "outputs": [],
   "source": [
    "## Basic"
   ]
  },
  {
   "cell_type": "code",
   "execution_count": 373,
   "id": "86240ac7-fa44-493d-9a24-ac3cc8be28ab",
   "metadata": {},
   "outputs": [
    {
     "name": "stdout",
     "output_type": "stream",
     "text": [
      "3\n"
     ]
    }
   ],
   "source": [
    "my_list = [10, 20, 30, 40, 50, 60]\n",
    "index_value = my_list.index(40)\n",
    "print(index_value)"
   ]
  },
  {
   "cell_type": "code",
   "execution_count": 375,
   "id": "4c8d4c94-6fbf-4ce0-95aa-31ed6be0d1ee",
   "metadata": {},
   "outputs": [],
   "source": [
    "## Using index() with Strings"
   ]
  },
  {
   "cell_type": "code",
   "execution_count": 377,
   "id": "684d8819-9e0e-4149-9c83-3729ac503f19",
   "metadata": {},
   "outputs": [
    {
     "name": "stdout",
     "output_type": "stream",
     "text": [
      "5\n"
     ]
    }
   ],
   "source": [
    "text = \"hellow, world!\"\n",
    "index_text = text.index(\"w\")\n",
    "print(index_text)"
   ]
  },
  {
   "cell_type": "code",
   "execution_count": null,
   "id": "e5288ae3-42cd-4987-8383-c4b1e22c118e",
   "metadata": {},
   "outputs": [],
   "source": [
    "## Using index() with a Tuple"
   ]
  },
  {
   "cell_type": "code",
   "execution_count": 381,
   "id": "cd1060f0-0e2d-4b20-85ae-bc3ef639e42e",
   "metadata": {},
   "outputs": [
    {
     "name": "stdout",
     "output_type": "stream",
     "text": [
      "4\n"
     ]
    }
   ],
   "source": [
    "my_tuple = ('a', 'b', 'c', 'd', 'e')\n",
    "index_value = my_tuple.index('e')\n",
    "print(index_value)  "
   ]
  },
  {
   "cell_type": "code",
   "execution_count": 383,
   "id": "cb9c8c62-8bb3-424c-aadb-598ca61837e2",
   "metadata": {},
   "outputs": [],
   "source": [
    "##  Using index() with a Start and End Range"
   ]
  },
  {
   "cell_type": "code",
   "execution_count": 385,
   "id": "6bcbabee-c5b9-4624-b4d8-75a722f4fb83",
   "metadata": {},
   "outputs": [
    {
     "name": "stdout",
     "output_type": "stream",
     "text": [
      "4\n"
     ]
    }
   ],
   "source": [
    "numbers = [1, 2, 3, 4, 2, 5, 6, 2]\n",
    "index_value = numbers.index(2, 2, 7)  \n",
    "print(index_value)  "
   ]
  },
  {
   "cell_type": "code",
   "execution_count": 387,
   "id": "4b278fb5-0285-4ae8-b0a0-5705d17f8816",
   "metadata": {},
   "outputs": [],
   "source": [
    "## Handling ValueError Exception"
   ]
  },
  {
   "cell_type": "code",
   "execution_count": 389,
   "id": "dabad4e3-24e6-45db-8c21-b9752795d285",
   "metadata": {},
   "outputs": [
    {
     "name": "stdout",
     "output_type": "stream",
     "text": [
      "Element not found in the list.\n"
     ]
    }
   ],
   "source": [
    "my_list = [1, 2, 3, 4, 5]\n",
    "\n",
    "try:\n",
    "    index_value = my_list.index(10)  \n",
    "    print(index_value)\n",
    "except ValueError:\n",
    "    print(\"Element not found in the list.\")  \n"
   ]
  },
  {
   "cell_type": "markdown",
   "id": "73d29e3f-a8f2-4f5a-ac17-3afd86359537",
   "metadata": {},
   "source": [
    "## isalnum"
   ]
  },
  {
   "cell_type": "code",
   "execution_count": 392,
   "id": "0b161184-58d8-4ff5-aa13-a2b63afa7784",
   "metadata": {},
   "outputs": [],
   "source": [
    "## Basic"
   ]
  },
  {
   "cell_type": "code",
   "execution_count": 394,
   "id": "f345280c-9686-4b8b-9f40-3febe2a6d36d",
   "metadata": {},
   "outputs": [
    {
     "name": "stdout",
     "output_type": "stream",
     "text": [
      "True\n"
     ]
    }
   ],
   "source": [
    "string_1 = \"python123\"\n",
    "print(string_1.isalnum())"
   ]
  },
  {
   "cell_type": "code",
   "execution_count": null,
   "id": "f254b992-5d5d-47ea-907e-1898cfaf03cf",
   "metadata": {},
   "outputs": [],
   "source": [
    "## String with special characters"
   ]
  },
  {
   "cell_type": "code",
   "execution_count": 396,
   "id": "60db5ad3-0197-49c0-bde2-65e561f6c330",
   "metadata": {},
   "outputs": [
    {
     "name": "stdout",
     "output_type": "stream",
     "text": [
      "False\n"
     ]
    }
   ],
   "source": [
    "string_2 = \"python@123\"\n",
    "print(string_2.isalnum())"
   ]
  },
  {
   "cell_type": "code",
   "execution_count": null,
   "id": "0b4d1806-e917-4ab8-980b-3f0856db7a92",
   "metadata": {},
   "outputs": [],
   "source": [
    "## String with only letters"
   ]
  },
  {
   "cell_type": "code",
   "execution_count": 410,
   "id": "bd8fd5dd-d246-44f8-bf7f-630136537993",
   "metadata": {},
   "outputs": [
    {
     "name": "stdout",
     "output_type": "stream",
     "text": [
      "True\n"
     ]
    }
   ],
   "source": [
    "string_3 = \"python\"\n",
    "print(string_3.isalnum())"
   ]
  },
  {
   "cell_type": "code",
   "execution_count": 408,
   "id": "5cc8a50b-6012-4b7d-8eb6-e9a2579e45fc",
   "metadata": {},
   "outputs": [],
   "source": [
    "## String with spaces"
   ]
  },
  {
   "cell_type": "code",
   "execution_count": 412,
   "id": "363bbd87-d4fe-4ebd-a8ba-51348c53cd08",
   "metadata": {},
   "outputs": [
    {
     "name": "stdout",
     "output_type": "stream",
     "text": [
      "False\n"
     ]
    }
   ],
   "source": [
    "string_4 = \"this is python code\"\n",
    "print(string_4.isalnum())"
   ]
  },
  {
   "cell_type": "code",
   "execution_count": null,
   "id": "1faf32c4-b6b2-4b96-a72d-73d2a833b24b",
   "metadata": {},
   "outputs": [],
   "source": [
    "## Empty string"
   ]
  },
  {
   "cell_type": "code",
   "execution_count": 414,
   "id": "445aece5-9afc-4362-aa76-4be31ea98cc0",
   "metadata": {},
   "outputs": [
    {
     "name": "stdout",
     "output_type": "stream",
     "text": [
      "False\n"
     ]
    }
   ],
   "source": [
    "string_5 = \"\"\n",
    "print(string_5.isalnum())"
   ]
  },
  {
   "cell_type": "markdown",
   "id": "4701e6ea-9753-4bff-8edb-3c90240ce34e",
   "metadata": {},
   "source": [
    "## isalpha"
   ]
  },
  {
   "cell_type": "code",
   "execution_count": 417,
   "id": "19eedb25-193d-418f-8f60-33be584b8264",
   "metadata": {},
   "outputs": [],
   "source": [
    "## Basic"
   ]
  },
  {
   "cell_type": "code",
   "execution_count": 419,
   "id": "974cff77-292f-49d2-ac93-6e8c73eb079b",
   "metadata": {},
   "outputs": [
    {
     "name": "stdout",
     "output_type": "stream",
     "text": [
      "False\n"
     ]
    }
   ],
   "source": [
    "string_1 = \"Hellow World\"\n",
    "print(string_1.isalpha())"
   ]
  },
  {
   "cell_type": "code",
   "execution_count": null,
   "id": "75b33b7a-6e24-4485-94c7-9009c60b29e5",
   "metadata": {},
   "outputs": [],
   "source": [
    "##  string with alphabets and spaces"
   ]
  },
  {
   "cell_type": "code",
   "execution_count": 421,
   "id": "2ad9a830-0a1b-4f99-acf1-f1c1c7311f8f",
   "metadata": {},
   "outputs": [
    {
     "name": "stdout",
     "output_type": "stream",
     "text": [
      "False\n"
     ]
    }
   ],
   "source": [
    "string_2 = \"this is python code\"\n",
    "print(string_2.isalpha())"
   ]
  },
  {
   "cell_type": "code",
   "execution_count": 423,
   "id": "6ec15125-5707-4a96-8808-1ad151ff3e39",
   "metadata": {},
   "outputs": [],
   "source": [
    "## string with alphabets and numbers"
   ]
  },
  {
   "cell_type": "code",
   "execution_count": 425,
   "id": "b0063d94-68a8-4640-928f-b88136bf4920",
   "metadata": {},
   "outputs": [
    {
     "name": "stdout",
     "output_type": "stream",
     "text": [
      "False\n"
     ]
    }
   ],
   "source": [
    "string_3 = \"python123\"\n",
    "print(string_3.isalpha())"
   ]
  },
  {
   "cell_type": "code",
   "execution_count": null,
   "id": "f7cbf06c-45f8-48ce-80e5-aed8758dcb11",
   "metadata": {},
   "outputs": [],
   "source": [
    "## empty string"
   ]
  },
  {
   "cell_type": "code",
   "execution_count": 440,
   "id": "05c8ba38-31c1-4a11-9c23-ddba48aa5c75",
   "metadata": {},
   "outputs": [
    {
     "name": "stdout",
     "output_type": "stream",
     "text": [
      "False\n"
     ]
    }
   ],
   "source": [
    "srting_4 = \"\"\n",
    "print(string_4.isalpha())"
   ]
  },
  {
   "cell_type": "code",
   "execution_count": null,
   "id": "d7579c3d-1bbb-4b5d-ae1f-68cb58d402e0",
   "metadata": {},
   "outputs": [],
   "source": [
    "## string with special characters"
   ]
  },
  {
   "cell_type": "code",
   "execution_count": 442,
   "id": "d17ce365-7528-4e56-bbfc-1a09898d3d79",
   "metadata": {},
   "outputs": [
    {
     "name": "stdout",
     "output_type": "stream",
     "text": [
      "False\n"
     ]
    }
   ],
   "source": [
    "sring_5 = \"hellow!\"\n",
    "print(string_5.isalpha())"
   ]
  },
  {
   "cell_type": "markdown",
   "id": "16890b24-079e-44a3-b5c4-4bd489c432ce",
   "metadata": {},
   "source": [
    "## isascii"
   ]
  },
  {
   "cell_type": "code",
   "execution_count": 445,
   "id": "a8f8f21b-736a-4286-9287-30aed449e622",
   "metadata": {},
   "outputs": [],
   "source": [
    "## basic"
   ]
  },
  {
   "cell_type": "code",
   "execution_count": 447,
   "id": "94ca3f3e-2f76-4f33-801d-e65b80965ae8",
   "metadata": {},
   "outputs": [
    {
     "name": "stdout",
     "output_type": "stream",
     "text": [
      "True\n"
     ]
    }
   ],
   "source": [
    "s1 = \"hellow123\"\n",
    "print(s1.isascii())"
   ]
  },
  {
   "cell_type": "code",
   "execution_count": 495,
   "id": "ba6da402-a770-41e8-908b-646ec00db8e7",
   "metadata": {},
   "outputs": [],
   "source": [
    "## String with a non-ASCII character (Unicode)"
   ]
  },
  {
   "cell_type": "code",
   "execution_count": 497,
   "id": "2857492f-68ef-4090-825c-13528c52a0f0",
   "metadata": {},
   "outputs": [
    {
     "name": "stdout",
     "output_type": "stream",
     "text": [
      "True\n"
     ]
    }
   ],
   "source": [
    "s2 = \"Hello\"\n",
    "print(s2.isascii()) "
   ]
  },
  {
   "cell_type": "code",
   "execution_count": 499,
   "id": "e29f8d1a-e587-4b41-a5c3-cdc39da201e5",
   "metadata": {},
   "outputs": [],
   "source": [
    "## Empty string"
   ]
  },
  {
   "cell_type": "code",
   "execution_count": 501,
   "id": "56124ea8-c88b-4649-8d97-ec76c8b5c40d",
   "metadata": {},
   "outputs": [
    {
     "name": "stdout",
     "output_type": "stream",
     "text": [
      "True\n"
     ]
    }
   ],
   "source": [
    "s3 = \"\"\n",
    "print(s3.isascii())"
   ]
  },
  {
   "cell_type": "code",
   "execution_count": 503,
   "id": "5d0f46c9-f537-46df-853c-dcbb53fa8242",
   "metadata": {},
   "outputs": [],
   "source": [
    "## Special characters "
   ]
  },
  {
   "cell_type": "code",
   "execution_count": 505,
   "id": "c8893013-5a51-4ca9-ad01-7156f179136c",
   "metadata": {},
   "outputs": [
    {
     "name": "stdout",
     "output_type": "stream",
     "text": [
      "True\n"
     ]
    }
   ],
   "source": [
    "s4 = \"!@#$%^&*()\"\n",
    "print(s4.isascii())"
   ]
  },
  {
   "cell_type": "code",
   "execution_count": 507,
   "id": "f34ada28-5834-4dd7-9611-ec358844356d",
   "metadata": {},
   "outputs": [],
   "source": [
    "## String with accented character"
   ]
  },
  {
   "cell_type": "code",
   "execution_count": 509,
   "id": "645e4d1f-e568-403c-a66c-52688cce27e7",
   "metadata": {},
   "outputs": [
    {
     "name": "stdout",
     "output_type": "stream",
     "text": [
      "False\n"
     ]
    }
   ],
   "source": [
    "s5 = \"Café\"\n",
    "print(s5.isascii()) "
   ]
  },
  {
   "cell_type": "markdown",
   "id": "b2449678-5717-4947-9b40-890a2e4a1bb4",
   "metadata": {},
   "source": [
    "## isdecimal "
   ]
  },
  {
   "cell_type": "code",
   "execution_count": 477,
   "id": "127586e0-4d61-43cb-a0f4-649ba51b51d5",
   "metadata": {},
   "outputs": [],
   "source": [
    "## basic"
   ]
  },
  {
   "cell_type": "code",
   "execution_count": 512,
   "id": "daec1b00-2051-45c6-9d62-aa438230071e",
   "metadata": {},
   "outputs": [
    {
     "name": "stdout",
     "output_type": "stream",
     "text": [
      "True\n"
     ]
    }
   ],
   "source": [
    "s1 = \"12345\"\n",
    "print(s1.isdecimal())"
   ]
  },
  {
   "cell_type": "code",
   "execution_count": 514,
   "id": "d592a703-7464-48a6-bd1d-847f8d6b76e9",
   "metadata": {},
   "outputs": [],
   "source": [
    "##  String with a decimal digit and a non-decimal character"
   ]
  },
  {
   "cell_type": "code",
   "execution_count": 516,
   "id": "4b5df682-64d0-4061-89f8-2df48de8fea2",
   "metadata": {},
   "outputs": [
    {
     "name": "stdout",
     "output_type": "stream",
     "text": [
      "False\n"
     ]
    }
   ],
   "source": [
    "s2 = \"123.45\"\n",
    "print(s2.isdecimal())"
   ]
  },
  {
   "cell_type": "code",
   "execution_count": null,
   "id": "0a9fe5de-37b2-49b7-b254-fb1b171d0ea0",
   "metadata": {},
   "outputs": [],
   "source": [
    "## String with Unicode decimal characters"
   ]
  },
  {
   "cell_type": "code",
   "execution_count": 518,
   "id": "91857424-2a20-458e-b50f-559c819d0165",
   "metadata": {},
   "outputs": [
    {
     "name": "stdout",
     "output_type": "stream",
     "text": [
      "False\n"
     ]
    }
   ],
   "source": [
    "s3 = \"²³\"  \n",
    "print(s3.isdecimal())"
   ]
  },
  {
   "cell_type": "code",
   "execution_count": 520,
   "id": "4794673a-0886-4de7-82a7-07a24f27ea23",
   "metadata": {},
   "outputs": [],
   "source": [
    "##String with whitespace and numbers"
   ]
  },
  {
   "cell_type": "code",
   "execution_count": 522,
   "id": "cf420e3e-48e8-4673-ad3b-6bb2aaa6bfe8",
   "metadata": {},
   "outputs": [
    {
     "name": "stdout",
     "output_type": "stream",
     "text": [
      "False\n"
     ]
    }
   ],
   "source": [
    "s4 = \"123 456\"\n",
    "print(s4.isdecimal())"
   ]
  },
  {
   "cell_type": "code",
   "execution_count": 534,
   "id": "74d23b2e-6c2d-4489-9ff5-21de4d6a4b9f",
   "metadata": {},
   "outputs": [],
   "source": [
    "## Empty string"
   ]
  },
  {
   "cell_type": "code",
   "execution_count": 536,
   "id": "b84e2447-8eb2-4e35-98b9-289b11318d5b",
   "metadata": {},
   "outputs": [
    {
     "name": "stdout",
     "output_type": "stream",
     "text": [
      "False\n"
     ]
    }
   ],
   "source": [
    "s5= \"\"\n",
    "print(s5.isdecimal())"
   ]
  },
  {
   "cell_type": "markdown",
   "id": "08739703-e9e4-48b3-9e3b-502a5eccadf6",
   "metadata": {},
   "source": [
    "## isdigit"
   ]
  },
  {
   "cell_type": "code",
   "execution_count": 539,
   "id": "e4f9da4c-9801-4a75-9ce9-91249037ebe6",
   "metadata": {},
   "outputs": [],
   "source": [
    "## numeric string"
   ]
  },
  {
   "cell_type": "code",
   "execution_count": 543,
   "id": "33525b16-2433-4177-b3d1-6805453ebcea",
   "metadata": {},
   "outputs": [
    {
     "name": "stdout",
     "output_type": "stream",
     "text": [
      "True\n"
     ]
    }
   ],
   "source": [
    "print('12345'.isdigit())"
   ]
  },
  {
   "cell_type": "code",
   "execution_count": 545,
   "id": "df4f9c72-0967-4713-b5df-67a92a4435fa",
   "metadata": {},
   "outputs": [],
   "source": [
    "## string with a space"
   ]
  },
  {
   "cell_type": "code",
   "execution_count": 547,
   "id": "f2c950cd-3002-4a62-982f-de23d9aad47e",
   "metadata": {},
   "outputs": [
    {
     "name": "stdout",
     "output_type": "stream",
     "text": [
      "False\n"
     ]
    }
   ],
   "source": [
    " print('1,2,3,    4,5'.isdigit())"
   ]
  },
  {
   "cell_type": "code",
   "execution_count": 549,
   "id": "51321cce-9ec1-4d70-9b75-ddf5143f4582",
   "metadata": {},
   "outputs": [],
   "source": [
    " ## string with letters"
   ]
  },
  {
   "cell_type": "code",
   "execution_count": 553,
   "id": "d6cdf42c-5342-4acd-b658-7ead5f2ce1a9",
   "metadata": {},
   "outputs": [
    {
     "name": "stdout",
     "output_type": "stream",
     "text": [
      "False\n"
     ]
    }
   ],
   "source": [
    "print(\"123abc\".isdigit())"
   ]
  },
  {
   "cell_type": "code",
   "execution_count": 568,
   "id": "6f42b923-b9de-4617-9da9-59b1f5f3b9a6",
   "metadata": {},
   "outputs": [],
   "source": [
    "## string with special characters"
   ]
  },
  {
   "cell_type": "code",
   "execution_count": 570,
   "id": "f3f18bdb-af91-4ecf-88ef-073a178d1eea",
   "metadata": {},
   "outputs": [
    {
     "name": "stdout",
     "output_type": "stream",
     "text": [
      "False\n"
     ]
    }
   ],
   "source": [
    "print(\"123!\".isdigit())"
   ]
  },
  {
   "cell_type": "code",
   "execution_count": null,
   "id": "765e83b5-6dd9-4b61-aca7-1e1822634e7b",
   "metadata": {},
   "outputs": [],
   "source": [
    "## empty string"
   ]
  },
  {
   "cell_type": "code",
   "execution_count": 572,
   "id": "c5a54878-ef13-4a18-ade1-321930137909",
   "metadata": {},
   "outputs": [
    {
     "name": "stdout",
     "output_type": "stream",
     "text": [
      "False\n"
     ]
    }
   ],
   "source": [
    "print(\"\".isdigit())"
   ]
  },
  {
   "cell_type": "markdown",
   "id": "edee53ff-ba2c-4d04-9a76-9075594b9682",
   "metadata": {},
   "source": [
    "## isidentifier"
   ]
  },
  {
   "cell_type": "code",
   "execution_count": null,
   "id": "83752738-11db-4135-b58e-dc7745d844c2",
   "metadata": {},
   "outputs": [],
   "source": [
    "## Valid identifier"
   ]
  },
  {
   "cell_type": "code",
   "execution_count": 575,
   "id": "727e05ec-2bd3-4895-90e0-7d285b455eaf",
   "metadata": {},
   "outputs": [
    {
     "name": "stdout",
     "output_type": "stream",
     "text": [
      "True\n"
     ]
    }
   ],
   "source": [
    "var1 = \"variable_name\"\n",
    "print(var1.isidentifier())"
   ]
  },
  {
   "cell_type": "code",
   "execution_count": 577,
   "id": "d24c396e-8616-46e0-9454-0d08709fe873",
   "metadata": {},
   "outputs": [],
   "source": [
    "## Starts with a number"
   ]
  },
  {
   "cell_type": "code",
   "execution_count": 579,
   "id": "d513a526-d183-4344-a7c9-ff17e7dbba75",
   "metadata": {},
   "outputs": [
    {
     "name": "stdout",
     "output_type": "stream",
     "text": [
      "False\n"
     ]
    }
   ],
   "source": [
    "var2 = \"1variable\"\n",
    "print(var2.isidentifier())"
   ]
  },
  {
   "cell_type": "code",
   "execution_count": 588,
   "id": "5d085866-fc0a-4b56-a8d4-78a3e2f20c09",
   "metadata": {},
   "outputs": [],
   "source": [
    "## Contains special characters"
   ]
  },
  {
   "cell_type": "code",
   "execution_count": 590,
   "id": "3e9888a7-c818-4815-a7e4-f0cdcab96f9a",
   "metadata": {},
   "outputs": [
    {
     "name": "stdout",
     "output_type": "stream",
     "text": [
      "False\n"
     ]
    }
   ],
   "source": [
    "var3 = \"var@name\"\n",
    "print(var3.isidentifier())"
   ]
  },
  {
   "cell_type": "code",
   "execution_count": 592,
   "id": "60490007-e57a-42f3-b1c0-3a416504a52b",
   "metadata": {},
   "outputs": [],
   "source": [
    "##  Contains only underscores"
   ]
  },
  {
   "cell_type": "code",
   "execution_count": 594,
   "id": "65e21afd-ff8c-4a46-b7ca-5435af59590e",
   "metadata": {},
   "outputs": [
    {
     "name": "stdout",
     "output_type": "stream",
     "text": [
      "True\n"
     ]
    }
   ],
   "source": [
    "var4 = \"_underscore\"\n",
    "print(var4.isidentifier()) "
   ]
  },
  {
   "cell_type": "code",
   "execution_count": 596,
   "id": "0542e545-a0d9-4700-be57-efcec83a5753",
   "metadata": {},
   "outputs": [],
   "source": [
    "## A reserved keywor"
   ]
  },
  {
   "cell_type": "code",
   "execution_count": 602,
   "id": "0d00170c-e2cb-4905-bfc7-6c17802a2bed",
   "metadata": {},
   "outputs": [
    {
     "name": "stdout",
     "output_type": "stream",
     "text": [
      "True\n"
     ]
    }
   ],
   "source": [
    "var5 = \"class\"\n",
    "print(var5.isidentifier())"
   ]
  },
  {
   "cell_type": "markdown",
   "id": "4527b6c9-f241-497a-bec8-702af7165066",
   "metadata": {},
   "source": [
    "## islower"
   ]
  },
  {
   "cell_type": "code",
   "execution_count": 619,
   "id": "f367a083-4075-468f-912f-07df3d2ee50e",
   "metadata": {},
   "outputs": [],
   "source": [
    "## basic"
   ]
  },
  {
   "cell_type": "code",
   "execution_count": 621,
   "id": "0506d70b-5403-481f-a8e0-2eef9a9bd6dd",
   "metadata": {},
   "outputs": [
    {
     "name": "stdout",
     "output_type": "stream",
     "text": [
      "True\n"
     ]
    }
   ],
   "source": [
    "string1 = \"hellow\"\n",
    "print(string1.islower())"
   ]
  },
  {
   "cell_type": "code",
   "execution_count": 623,
   "id": "10b94f56-7cbc-4dfb-a3e0-55ce9725053f",
   "metadata": {},
   "outputs": [],
   "source": [
    "## string with uppercase letters"
   ]
  },
  {
   "cell_type": "code",
   "execution_count": 625,
   "id": "82535d9c-7ef5-498c-b649-c69b5c845f36",
   "metadata": {},
   "outputs": [
    {
     "name": "stdout",
     "output_type": "stream",
     "text": [
      "False\n"
     ]
    }
   ],
   "source": [
    "string2 = \"HELLOW\"\n",
    "print(string2.islower())"
   ]
  },
  {
   "cell_type": "code",
   "execution_count": 627,
   "id": "49b5cfa4-d7be-441a-adf5-42e79454f7f0",
   "metadata": {},
   "outputs": [],
   "source": [
    "## string with numbers and lowercase letters"
   ]
  },
  {
   "cell_type": "code",
   "execution_count": 629,
   "id": "1c760e26-2d5b-4451-a95a-83ceb608c368",
   "metadata": {},
   "outputs": [
    {
     "name": "stdout",
     "output_type": "stream",
     "text": [
      "True\n"
     ]
    }
   ],
   "source": [
    "string3 = \"hello123\"\n",
    "print(string3.islower()) "
   ]
  },
  {
   "cell_type": "code",
   "execution_count": 631,
   "id": "570b692d-404d-4b1d-8acd-39a08e67013a",
   "metadata": {},
   "outputs": [],
   "source": [
    "## string with special characters and lowercase letters"
   ]
  },
  {
   "cell_type": "code",
   "execution_count": 633,
   "id": "c0b91426-eaf2-438d-be18-de8498e3c4d5",
   "metadata": {},
   "outputs": [
    {
     "name": "stdout",
     "output_type": "stream",
     "text": [
      "True\n"
     ]
    }
   ],
   "source": [
    "string4 = \"hello@world\"\n",
    "print(string4.islower())"
   ]
  },
  {
   "cell_type": "code",
   "execution_count": 637,
   "id": "996ebd5d-ab8d-4f2a-aea0-b854bd5e95e7",
   "metadata": {},
   "outputs": [],
   "source": [
    "## string with spaces and lowercase letters"
   ]
  },
  {
   "cell_type": "code",
   "execution_count": 641,
   "id": "e9dd0bd1-616b-41a7-9a28-2188604535bf",
   "metadata": {},
   "outputs": [
    {
     "name": "stdout",
     "output_type": "stream",
     "text": [
      "True\n"
     ]
    }
   ],
   "source": [
    "string5 = \"hello world\"\n",
    "print(string5.islower())"
   ]
  },
  {
   "cell_type": "markdown",
   "id": "0219ff2d-bd4a-4f4b-a744-46736e40896e",
   "metadata": {},
   "source": [
    "## isnumeric"
   ]
  },
  {
   "cell_type": "code",
   "execution_count": 659,
   "id": "0ac945b1-e439-4e23-b88f-ded3ea901125",
   "metadata": {},
   "outputs": [],
   "source": [
    "## basic"
   ]
  },
  {
   "cell_type": "code",
   "execution_count": 661,
   "id": "6748d4ad-3039-44af-8627-1a595549f892",
   "metadata": {},
   "outputs": [
    {
     "name": "stdout",
     "output_type": "stream",
     "text": [
      "True\n"
     ]
    }
   ],
   "source": [
    "s1 = \"12345\"\n",
    "print(s1.isnumeric())\n"
   ]
  },
  {
   "cell_type": "code",
   "execution_count": 663,
   "id": "dfd8de61-01ee-49d3-bec9-adde61f7d02b",
   "metadata": {},
   "outputs": [],
   "source": [
    "## string with decimals"
   ]
  },
  {
   "cell_type": "code",
   "execution_count": 665,
   "id": "bed58922-7636-44f3-a99f-ab14ed803441",
   "metadata": {},
   "outputs": [
    {
     "name": "stdout",
     "output_type": "stream",
     "text": [
      "False\n"
     ]
    }
   ],
   "source": [
    "s2 = \"123.45\"\n",
    "print(s2.isnumeric())"
   ]
  },
  {
   "cell_type": "code",
   "execution_count": 673,
   "id": "3acde835-05d5-4271-816f-bbc867985688",
   "metadata": {},
   "outputs": [],
   "source": [
    "## string with space"
   ]
  },
  {
   "cell_type": "code",
   "execution_count": 675,
   "id": "8e17b567-e1df-4b1a-bc23-79765d32ebeb",
   "metadata": {},
   "outputs": [
    {
     "name": "stdout",
     "output_type": "stream",
     "text": [
      "False\n"
     ]
    }
   ],
   "source": [
    "s3 = \"123 456\"\n",
    "print(s3.isnumeric())"
   ]
  },
  {
   "cell_type": "code",
   "execution_count": 677,
   "id": "e09cd96a-4dc7-4370-b4cc-b5e0399bbbb8",
   "metadata": {},
   "outputs": [],
   "source": [
    "## numeric string with Unicode characters"
   ]
  },
  {
   "cell_type": "code",
   "execution_count": 679,
   "id": "03c3e412-1939-47d2-805b-f6bc238f2e12",
   "metadata": {},
   "outputs": [
    {
     "name": "stdout",
     "output_type": "stream",
     "text": [
      "True\n"
     ]
    }
   ],
   "source": [
    "s4 = \"²³\"\n",
    "print(s4.isnumeric()) "
   ]
  },
  {
   "cell_type": "code",
   "execution_count": 681,
   "id": "9728678f-3809-43b2-9401-365b38659d06",
   "metadata": {},
   "outputs": [],
   "source": [
    "## string with alphabetic characters"
   ]
  },
  {
   "cell_type": "code",
   "execution_count": 683,
   "id": "b3dfa593-1b74-4e7d-b8f0-31bc834382c7",
   "metadata": {},
   "outputs": [
    {
     "name": "stdout",
     "output_type": "stream",
     "text": [
      "False\n"
     ]
    }
   ],
   "source": [
    "s5 = \"123abc\"\n",
    "print(s5.isnumeric())"
   ]
  },
  {
   "cell_type": "markdown",
   "id": "29928ac7-23c9-43b0-a2a4-483eaab2b5f6",
   "metadata": {},
   "source": [
    "## isprintable"
   ]
  },
  {
   "cell_type": "code",
   "execution_count": 698,
   "id": "c8108a20-60d1-4d0e-97e9-682da938940d",
   "metadata": {},
   "outputs": [],
   "source": [
    "## string with alphabets and numbers"
   ]
  },
  {
   "cell_type": "code",
   "execution_count": 700,
   "id": "ac2b01ee-b30b-49bb-95e2-7c2564c99b10",
   "metadata": {},
   "outputs": [
    {
     "name": "stdout",
     "output_type": "stream",
     "text": [
      "True\n"
     ]
    }
   ],
   "source": [
    "s1 = \"Hello123\"\n",
    "print(s1.isprintable())"
   ]
  },
  {
   "cell_type": "code",
   "execution_count": 702,
   "id": "18d118a1-7cdb-49d0-9e83-218da6503ac3",
   "metadata": {},
   "outputs": [],
   "source": [
    "## String with special characters"
   ]
  },
  {
   "cell_type": "code",
   "execution_count": 704,
   "id": "9a6a8cfa-75d8-4d89-9d50-d9bc4320c1a7",
   "metadata": {},
   "outputs": [
    {
     "name": "stdout",
     "output_type": "stream",
     "text": [
      "True\n"
     ]
    }
   ],
   "source": [
    "s2 = \"Hello! @#$%^&*()\"\n",
    "print(s2.isprintable())"
   ]
  },
  {
   "cell_type": "code",
   "execution_count": 706,
   "id": "a6edc596-b0dc-4c9e-a1b2-8c1157188d1c",
   "metadata": {},
   "outputs": [],
   "source": [
    "## String with a newline character "
   ]
  },
  {
   "cell_type": "code",
   "execution_count": 708,
   "id": "dea081f5-8f02-4605-acaf-5caeafa15ce7",
   "metadata": {},
   "outputs": [
    {
     "name": "stdout",
     "output_type": "stream",
     "text": [
      "False\n"
     ]
    }
   ],
   "source": [
    "s3 = \"Hello\\nWorld\"\n",
    "print(s3.isprintable())"
   ]
  },
  {
   "cell_type": "code",
   "execution_count": 710,
   "id": "05e83c9b-c7f3-482f-923f-7a00fc4a8252",
   "metadata": {},
   "outputs": [],
   "source": [
    "##  String with a tab character"
   ]
  },
  {
   "cell_type": "code",
   "execution_count": 712,
   "id": "4ad62d03-16d6-42b8-ba1d-5ac39594e739",
   "metadata": {},
   "outputs": [
    {
     "name": "stdout",
     "output_type": "stream",
     "text": [
      "False\n"
     ]
    }
   ],
   "source": [
    "s4 = \"Hello\\tWorld\"\n",
    "print(s4.isprintable())"
   ]
  },
  {
   "cell_type": "code",
   "execution_count": 714,
   "id": "b14daf2b-eae0-41ab-86fa-b41686dbbb4e",
   "metadata": {},
   "outputs": [],
   "source": [
    "## Empty string"
   ]
  },
  {
   "cell_type": "code",
   "execution_count": 720,
   "id": "baf42849-7e6e-4a10-af68-c191fb18e2bf",
   "metadata": {},
   "outputs": [
    {
     "name": "stdout",
     "output_type": "stream",
     "text": [
      "True\n"
     ]
    }
   ],
   "source": [
    "s5 = \"\"\n",
    "print(s5.isprintable())"
   ]
  },
  {
   "cell_type": "markdown",
   "id": "b8eb4043-7642-4e80-83da-fdcd114a2328",
   "metadata": {},
   "source": [
    "## isspace"
   ]
  },
  {
   "cell_type": "code",
   "execution_count": 723,
   "id": "bfb6022d-8fcb-4cac-8146-0421d9b21d43",
   "metadata": {},
   "outputs": [],
   "source": [
    "## Single space character"
   ]
  },
  {
   "cell_type": "code",
   "execution_count": 725,
   "id": "504086cb-1369-4a68-a9ab-f6497cc59514",
   "metadata": {},
   "outputs": [
    {
     "name": "stdout",
     "output_type": "stream",
     "text": [
      "True\n"
     ]
    }
   ],
   "source": [
    "char1 = \" \"\n",
    "print(char1.isspace())"
   ]
  },
  {
   "cell_type": "code",
   "execution_count": 740,
   "id": "39650fb5-0404-4884-b121-6a2a8110dec6",
   "metadata": {},
   "outputs": [],
   "source": [
    "## Tab character"
   ]
  },
  {
   "cell_type": "code",
   "execution_count": 742,
   "id": "562219f8-bd0c-499a-8895-5a85fa25778b",
   "metadata": {},
   "outputs": [
    {
     "name": "stdout",
     "output_type": "stream",
     "text": [
      "True\n"
     ]
    }
   ],
   "source": [
    "char2 = \"\\t\"\n",
    "print(char2.isspace())"
   ]
  },
  {
   "cell_type": "code",
   "execution_count": 744,
   "id": "1f6945aa-35d3-413c-b00a-48abd5e921e4",
   "metadata": {},
   "outputs": [],
   "source": [
    "##  Newline character"
   ]
  },
  {
   "cell_type": "code",
   "execution_count": 746,
   "id": "895c863c-2b4c-41a1-a7b6-93fbe02bf753",
   "metadata": {},
   "outputs": [
    {
     "name": "stdout",
     "output_type": "stream",
     "text": [
      "True\n"
     ]
    }
   ],
   "source": [
    "char3 = \"\\n\"\n",
    "print(char3.isspace())"
   ]
  },
  {
   "cell_type": "code",
   "execution_count": null,
   "id": "b997ce4d-b505-40c0-99e0-1e3f158145c5",
   "metadata": {},
   "outputs": [],
   "source": [
    "## Multiple whitespace characters"
   ]
  },
  {
   "cell_type": "code",
   "execution_count": 765,
   "id": "b4d383de-5e60-4962-bf93-90bd9547b035",
   "metadata": {},
   "outputs": [
    {
     "name": "stdout",
     "output_type": "stream",
     "text": [
      "True\n"
     ]
    }
   ],
   "source": [
    "char4 = \"   \\t\\n\"\n",
    "print(char4.isspace()) "
   ]
  },
  {
   "cell_type": "code",
   "execution_count": 767,
   "id": "89d5e30b-92c4-483c-865c-d73ef7f9505d",
   "metadata": {},
   "outputs": [],
   "source": [
    "## String with non-whitespace characters"
   ]
  },
  {
   "cell_type": "code",
   "execution_count": 769,
   "id": "cbac04af-2636-4932-9a0a-c00ec2dc1cac",
   "metadata": {},
   "outputs": [
    {
     "name": "stdout",
     "output_type": "stream",
     "text": [
      "False\n"
     ]
    }
   ],
   "source": [
    "char5 = \" hello \"\n",
    "print(char5.isspace()) "
   ]
  },
  {
   "cell_type": "markdown",
   "id": "4edc56b9-2f66-4ca7-bc36-b6d4409e968c",
   "metadata": {},
   "source": [
    "## istitle"
   ]
  },
  {
   "cell_type": "code",
   "execution_count": 772,
   "id": "187be655-c2eb-4c24-95b2-8f3406a08af1",
   "metadata": {},
   "outputs": [],
   "source": [
    "## title case"
   ]
  },
  {
   "cell_type": "code",
   "execution_count": 774,
   "id": "27d828c7-99ac-46f8-bdec-e95bd294e8dc",
   "metadata": {},
   "outputs": [
    {
     "name": "stdout",
     "output_type": "stream",
     "text": [
      "True\n"
     ]
    }
   ],
   "source": [
    "print(\"Hello World\".istitle())"
   ]
  },
  {
   "cell_type": "code",
   "execution_count": 790,
   "id": "2a7cf274-73c8-45da-abd5-91d81261191d",
   "metadata": {},
   "outputs": [],
   "source": [
    "## Single capitalized word"
   ]
  },
  {
   "cell_type": "code",
   "execution_count": 792,
   "id": "b3cfb852-d55a-4c08-b728-731b3c7e04e2",
   "metadata": {},
   "outputs": [
    {
     "name": "stdout",
     "output_type": "stream",
     "text": [
      "True\n"
     ]
    }
   ],
   "source": [
    "print(\"Python\".istitle()) "
   ]
  },
  {
   "cell_type": "code",
   "execution_count": 794,
   "id": "b8745e48-6dee-4b57-b39c-c05a40e5f8e9",
   "metadata": {},
   "outputs": [],
   "source": [
    "##  Not in title case"
   ]
  },
  {
   "cell_type": "code",
   "execution_count": 796,
   "id": "4687c399-209f-48d5-9fdf-3c79d3cdef81",
   "metadata": {},
   "outputs": [
    {
     "name": "stdout",
     "output_type": "stream",
     "text": [
      "False\n"
     ]
    }
   ],
   "source": [
    "print(\"hello world\".istitle())"
   ]
  },
  {
   "cell_type": "code",
   "execution_count": 798,
   "id": "e8fc4f0b-3b43-4ef8-b6f4-d34f893af434",
   "metadata": {},
   "outputs": [],
   "source": [
    "## Not in title case "
   ]
  },
  {
   "cell_type": "code",
   "execution_count": 800,
   "id": "eca552a3-a353-4dc8-9a6d-7db0aa2cffb0",
   "metadata": {},
   "outputs": [
    {
     "name": "stdout",
     "output_type": "stream",
     "text": [
      "False\n"
     ]
    }
   ],
   "source": [
    "print(\"Hello world\".istitle())"
   ]
  },
  {
   "cell_type": "code",
   "execution_count": 814,
   "id": "ca47b2f9-1260-4859-ab7e-071d4845a15b",
   "metadata": {},
   "outputs": [],
   "source": [
    " ## numbers and special characters"
   ]
  },
  {
   "cell_type": "code",
   "execution_count": 816,
   "id": "b6f7d058-a137-4ab1-8527-4ff64561caed",
   "metadata": {},
   "outputs": [
    {
     "name": "stdout",
     "output_type": "stream",
     "text": [
      "True\n"
     ]
    }
   ],
   "source": [
    "print(\"Python 3.9\".istitle()) "
   ]
  },
  {
   "cell_type": "markdown",
   "id": "052b6fd9-9916-4465-9103-b0c45d2da7ff",
   "metadata": {},
   "source": [
    "## isupper"
   ]
  },
  {
   "cell_type": "code",
   "execution_count": 836,
   "id": "2bb41601-e8ab-4705-a6f1-69e7d341bd80",
   "metadata": {},
   "outputs": [],
   "source": [
    "## uppercase string"
   ]
  },
  {
   "cell_type": "code",
   "execution_count": 838,
   "id": "d3f49d07-3b9e-45b0-a9a5-8dcd46324047",
   "metadata": {},
   "outputs": [
    {
     "name": "stdout",
     "output_type": "stream",
     "text": [
      "True\n"
     ]
    }
   ],
   "source": [
    "string1 = \"HELLO\"\n",
    "print(string1.isupper()) "
   ]
  },
  {
   "cell_type": "code",
   "execution_count": 843,
   "id": "71905387-4d5a-4a87-8875-9cf9401545b8",
   "metadata": {},
   "outputs": [],
   "source": [
    "## lowercase string"
   ]
  },
  {
   "cell_type": "code",
   "execution_count": 845,
   "id": "6f5c98a6-749a-4417-ac86-0e84b7cc7a8a",
   "metadata": {},
   "outputs": [
    {
     "name": "stdout",
     "output_type": "stream",
     "text": [
      "False\n"
     ]
    }
   ],
   "source": [
    "string2 = \"hello\"\n",
    "print(string2.isupper())"
   ]
  },
  {
   "cell_type": "code",
   "execution_count": 847,
   "id": "55564373-7559-475e-ad67-150ee42ad354",
   "metadata": {},
   "outputs": [],
   "source": [
    "## mixed-case string"
   ]
  },
  {
   "cell_type": "code",
   "execution_count": 849,
   "id": "0ec2628b-465f-4d78-9d31-a6c2a318206b",
   "metadata": {},
   "outputs": [
    {
     "name": "stdout",
     "output_type": "stream",
     "text": [
      "False\n"
     ]
    }
   ],
   "source": [
    "string3 = \"HelloWorld\"\n",
    "print(string3.isupper())"
   ]
  },
  {
   "cell_type": "code",
   "execution_count": 862,
   "id": "b2838c4a-9a14-4766-8c33-4bd6334b8337",
   "metadata": {},
   "outputs": [],
   "source": [
    "##  string with numbers and uppercase letters"
   ]
  },
  {
   "cell_type": "code",
   "execution_count": 864,
   "id": "e6dc5404-6753-4ba7-93b0-3a812c32c42b",
   "metadata": {},
   "outputs": [
    {
     "name": "stdout",
     "output_type": "stream",
     "text": [
      "False\n"
     ]
    }
   ],
   "source": [
    "tring4 = \"HELLO123\"\n",
    "print(string4.isupper()) "
   ]
  },
  {
   "cell_type": "code",
   "execution_count": 866,
   "id": "0a14e016-771e-48a8-8bdc-462230a465fa",
   "metadata": {},
   "outputs": [],
   "source": [
    "##  string with special characters and uppercase letters"
   ]
  },
  {
   "cell_type": "code",
   "execution_count": 868,
   "id": "b3c0587b-82c3-4b4b-9b66-c5fe4f1fec96",
   "metadata": {},
   "outputs": [
    {
     "name": "stdout",
     "output_type": "stream",
     "text": [
      "True\n"
     ]
    }
   ],
   "source": [
    "string5 = \"HELLO!@#\"\n",
    "print(string5.isupper())"
   ]
  },
  {
   "cell_type": "markdown",
   "id": "8953877d-02ba-4466-bdd2-834768d62c92",
   "metadata": {},
   "source": [
    "## join"
   ]
  },
  {
   "cell_type": "code",
   "execution_count": 871,
   "id": "3823ce5c-3fc0-45cc-a536-f6cae0707b87",
   "metadata": {},
   "outputs": [],
   "source": [
    "##Joining a List of Strings"
   ]
  },
  {
   "cell_type": "code",
   "execution_count": 873,
   "id": "775242d6-75bf-4357-a387-32286b47ed37",
   "metadata": {},
   "outputs": [
    {
     "name": "stdout",
     "output_type": "stream",
     "text": [
      "Hello world this is Python\n"
     ]
    }
   ],
   "source": [
    "words = [\"Hello\", \"world\", \"this\", \"is\", \"Python\"]\n",
    "sentence = \" \".join(words)\n",
    "print(sentence)"
   ]
  },
  {
   "cell_type": "code",
   "execution_count": 885,
   "id": "0e81a8ee-28fc-4360-9bcb-3e43ceb2bc9f",
   "metadata": {},
   "outputs": [],
   "source": [
    "##  Joining with a Custom Separator"
   ]
  },
  {
   "cell_type": "code",
   "execution_count": 887,
   "id": "40107929-8929-4ac5-af82-0eb35f7c3aee",
   "metadata": {},
   "outputs": [
    {
     "name": "stdout",
     "output_type": "stream",
     "text": [
      "apple,banana,cherry\n"
     ]
    }
   ],
   "source": [
    "items = [\"apple\", \"banana\", \"cherry\"]\n",
    "csv_format = \",\".join(items)\n",
    "print(csv_format)"
   ]
  },
  {
   "cell_type": "code",
   "execution_count": 889,
   "id": "7668085b-bca5-47bc-aca1-3899baf060f4",
   "metadata": {},
   "outputs": [],
   "source": [
    "## Joining Characters to Form a Word"
   ]
  },
  {
   "cell_type": "code",
   "execution_count": 891,
   "id": "f1641404-eb15-4042-8174-f3890247202c",
   "metadata": {},
   "outputs": [
    {
     "name": "stdout",
     "output_type": "stream",
     "text": [
      "Jupyter\n"
     ]
    }
   ],
   "source": [
    "letters = ['J', 'u', 'p', 'y', 't', 'e', 'r']\n",
    "word = \"\".join(letters)\n",
    "print(word)"
   ]
  },
  {
   "cell_type": "code",
   "execution_count": 893,
   "id": "fb01ea5b-cdf9-4561-b4a6-dd6aa6ad5d5c",
   "metadata": {},
   "outputs": [],
   "source": [
    "##  Joining a Tuple"
   ]
  },
  {
   "cell_type": "code",
   "execution_count": 895,
   "id": "923e2d96-ddaf-416c-b008-0b232181c293",
   "metadata": {},
   "outputs": [
    {
     "name": "stdout",
     "output_type": "stream",
     "text": [
      "Python | Java | C++ | JavaScript\n"
     ]
    }
   ],
   "source": [
    "tuple_data = (\"Python\", \"Java\", \"C++\", \"JavaScript\")\n",
    "joined_string = \" | \".join(tuple_data)\n",
    "print(joined_string)"
   ]
  },
  {
   "cell_type": "code",
   "execution_count": 897,
   "id": "2c9535d5-0a12-4a72-a0a6-62ee55becff4",
   "metadata": {},
   "outputs": [],
   "source": [
    "##  Joining with Newline (\\n) Separator"
   ]
  },
  {
   "cell_type": "code",
   "execution_count": 899,
   "id": "28ba70b6-bd52-4943-8d38-b553ac44255d",
   "metadata": {},
   "outputs": [
    {
     "name": "stdout",
     "output_type": "stream",
     "text": [
      "Line 1\n",
      "Line 2\n",
      "Line 3\n"
     ]
    }
   ],
   "source": [
    "lines = [\"Line 1\", \"Line 2\", \"Line 3\"]\n",
    "multi_line_string = \"\\n\".join(lines)\n",
    "print(multi_line_string)"
   ]
  },
  {
   "cell_type": "markdown",
   "id": "642c88b1-1846-4a0b-a2c0-086cd7baeb87",
   "metadata": {},
   "source": [
    "## ljust"
   ]
  },
  {
   "cell_type": "code",
   "execution_count": 917,
   "id": "c9f5fe47-718e-44af-a178-17db11469b8e",
   "metadata": {},
   "outputs": [],
   "source": [
    "## basic"
   ]
  },
  {
   "cell_type": "code",
   "execution_count": 919,
   "id": "b7ff6bea-725a-450f-99a5-dfaf50a01f1f",
   "metadata": {},
   "outputs": [
    {
     "name": "stdout",
     "output_type": "stream",
     "text": [
      "Hello-----\n"
     ]
    }
   ],
   "source": [
    "text = \"Hello\"\n",
    "print(text.ljust(10, '-'))"
   ]
  },
  {
   "cell_type": "code",
   "execution_count": 921,
   "id": "98ae092d-2780-44ee-bc19-0792c01c1f4b",
   "metadata": {},
   "outputs": [],
   "source": [
    "## Padding with Spaces"
   ]
  },
  {
   "cell_type": "code",
   "execution_count": 923,
   "id": "171dfa3f-fc90-4dec-94bf-490f143bd475",
   "metadata": {},
   "outputs": [
    {
     "name": "stdout",
     "output_type": "stream",
     "text": [
      "Python         \n"
     ]
    }
   ],
   "source": [
    "text = \"Python\"\n",
    "print(text.ljust(15))  # Default padding is spaces"
   ]
  },
  {
   "cell_type": "code",
   "execution_count": 925,
   "id": "29c42686-54a5-4bb6-8c48-5aad54b863c2",
   "metadata": {},
   "outputs": [],
   "source": [
    "##  Using a Custom Character"
   ]
  },
  {
   "cell_type": "code",
   "execution_count": 927,
   "id": "9d9768e0-9951-4e86-8605-1f72bd328f47",
   "metadata": {},
   "outputs": [
    {
     "name": "stdout",
     "output_type": "stream",
     "text": [
      "Data********\n"
     ]
    }
   ],
   "source": [
    "text = \"Data\"\n",
    "print(text.ljust(12, '*'))"
   ]
  },
  {
   "cell_type": "code",
   "execution_count": 929,
   "id": "be9727e7-2135-4918-a83e-ec8d0af958ad",
   "metadata": {},
   "outputs": [],
   "source": [
    "##Aligning Multiple Strings "
   ]
  },
  {
   "cell_type": "code",
   "execution_count": 931,
   "id": "8ea48397-dfda-45fc-a881-eb1005ddbb9c",
   "metadata": {},
   "outputs": [
    {
     "name": "stdout",
     "output_type": "stream",
     "text": [
      "Apple..... is a fruit\n",
      "Banana.... is a fruit\n",
      "Cherry.... is a fruit\n"
     ]
    }
   ],
   "source": [
    "words = [\"Apple\", \"Banana\", \"Cherry\"]\n",
    "for word in words:\n",
    "    print(word.ljust(10, '.') + \" is a fruit\")"
   ]
  },
  {
   "cell_type": "code",
   "execution_count": 933,
   "id": "78dc09d1-e9c8-4a1c-ba9f-358c1e923494",
   "metadata": {},
   "outputs": [],
   "source": [
    "## Creating a Simple Table"
   ]
  },
  {
   "cell_type": "code",
   "execution_count": 935,
   "id": "1b52583d-13f8-46c3-9fd1-5294a32e1f19",
   "metadata": {},
   "outputs": [
    {
     "name": "stdout",
     "output_type": "stream",
     "text": [
      "Name      Age  Country   \n",
      "-------------------------\n",
      "Alice     25   USA       \n",
      "Bob       30   Canada    \n",
      "Charlie   22   UK        \n"
     ]
    }
   ],
   "source": [
    "headers = [\"Name\", \"Age\", \"Country\"]\n",
    "data = [[\"Alice\", \"25\", \"USA\"], [\"Bob\", \"30\", \"Canada\"], [\"Charlie\", \"22\", \"UK\"]]\n",
    "\n",
    "print(headers[0].ljust(10) + headers[1].ljust(5) + headers[2].ljust(10))\n",
    "print(\"-\" * 25)\n",
    "\n",
    "for row in data:\n",
    "    print(row[0].ljust(10) + row[1].ljust(5) + row[2].ljust(10))\n"
   ]
  },
  {
   "cell_type": "markdown",
   "id": "c432251d-200d-419b-af22-04a4f4397cd3",
   "metadata": {},
   "source": [
    "## lower "
   ]
  },
  {
   "cell_type": "code",
   "execution_count": 960,
   "id": "807c5d28-5426-4069-be58-99d2834d4dd4",
   "metadata": {},
   "outputs": [],
   "source": [
    "##  string to lowercase"
   ]
  },
  {
   "cell_type": "code",
   "execution_count": 962,
   "id": "65193699-9fe7-4164-89e0-bf3fa4de5873",
   "metadata": {},
   "outputs": [
    {
     "name": "stdout",
     "output_type": "stream",
     "text": [
      "hello world\n"
     ]
    }
   ],
   "source": [
    "text1 = \"HELLO WORLD\"\n",
    "print(text1.lower())"
   ]
  },
  {
   "cell_type": "code",
   "execution_count": 964,
   "id": "9def2c29-3ca9-4c96-9da2-4d53079e5578",
   "metadata": {},
   "outputs": [],
   "source": [
    "## mixed case string to lowercase"
   ]
  },
  {
   "cell_type": "code",
   "execution_count": 966,
   "id": "0e2af4ec-ff6f-4951-ab4f-4e61ba343101",
   "metadata": {},
   "outputs": [
    {
     "name": "stdout",
     "output_type": "stream",
     "text": [
      "python is fun!\n"
     ]
    }
   ],
   "source": [
    "text2 = \"PyThOn Is FuN!\"\n",
    "print(text2.lower())"
   ]
  },
  {
   "cell_type": "code",
   "execution_count": 968,
   "id": "7018762b-162e-44af-bab3-786fccbf7cef",
   "metadata": {},
   "outputs": [],
   "source": [
    "## lower() on user input"
   ]
  },
  {
   "cell_type": "code",
   "execution_count": 970,
   "id": "459cd46d-cedf-41d9-ac1f-0bdab6f3625e",
   "metadata": {},
   "outputs": [
    {
     "name": "stdout",
     "output_type": "stream",
     "text": [
      "User input in lowercase: what is your name?\n"
     ]
    }
   ],
   "source": [
    "user_input = \"What Is Your Name?\"\n",
    "print(\"User input in lowercase:\", user_input.lower())"
   ]
  },
  {
   "cell_type": "code",
   "execution_count": 972,
   "id": "ea097cf2-a48e-48db-8d9e-afbb1087f57c",
   "metadata": {},
   "outputs": [],
   "source": [
    "## Applying lower() to a list of words"
   ]
  },
  {
   "cell_type": "code",
   "execution_count": 974,
   "id": "6d46baf6-bc79-4da4-a065-22efe70042ac",
   "metadata": {},
   "outputs": [
    {
     "name": "stdout",
     "output_type": "stream",
     "text": [
      "['apple', 'banana', 'cherry']\n"
     ]
    }
   ],
   "source": [
    "words = [\"Apple\", \"BaNaNa\", \"CHERRY\"]\n",
    "lowercase_words = [word.lower() for word in words]\n",
    "print(lowercase_words)"
   ]
  },
  {
   "cell_type": "code",
   "execution_count": 976,
   "id": "553cc14c-77b4-4b8f-a624-178ab5454734",
   "metadata": {},
   "outputs": [],
   "source": [
    "## Comparing strings in a case-insensitive manner"
   ]
  },
  {
   "cell_type": "code",
   "execution_count": 978,
   "id": "b54625bf-3013-479d-8385-e750b740e14f",
   "metadata": {},
   "outputs": [
    {
     "name": "stdout",
     "output_type": "stream",
     "text": [
      "The strings are equal (case insensitive).\n"
     ]
    }
   ],
   "source": [
    "string1 = \"Hello\"\n",
    "string2 = \"hello\"\n",
    "if string1.lower() == string2.lower():\n",
    "    print(\"The strings are equal (case insensitive).\")\n",
    "else:\n",
    "    print(\"The strings are different.\")"
   ]
  },
  {
   "cell_type": "markdown",
   "id": "d75ee048-e79a-488e-a7a0-26cbe5c80459",
   "metadata": {},
   "source": [
    " ##  lstrip"
   ]
  },
  {
   "cell_type": "code",
   "execution_count": 987,
   "id": "2ff83ec0-be8e-4ece-b7a0-4e858954eb25",
   "metadata": {},
   "outputs": [],
   "source": [
    "## Removing leading spaces"
   ]
  },
  {
   "cell_type": "code",
   "execution_count": 989,
   "id": "b8610d6c-f8b7-4f8f-9ecc-ccade9d6ee37",
   "metadata": {},
   "outputs": [
    {
     "name": "stdout",
     "output_type": "stream",
     "text": [
      "Hello, World!\n"
     ]
    }
   ],
   "source": [
    "text1 = \"   Hello, World!\"\n",
    "print(text1.lstrip()) "
   ]
  },
  {
   "cell_type": "code",
   "execution_count": 991,
   "id": "ad126762-6014-4877-a0a5-5d3030b7eff3",
   "metadata": {},
   "outputs": [],
   "source": [
    "## Removing specific characters from the left"
   ]
  },
  {
   "cell_type": "code",
   "execution_count": 997,
   "id": "6a55836b-f64f-45d4-b097-31e1e090c93a",
   "metadata": {},
   "outputs": [
    {
     "name": "stdout",
     "output_type": "stream",
     "text": [
      "Python is awesome!\n"
     ]
    }
   ],
   "source": [
    "text2 = \"###Python is awesome!\"\n",
    "print(text2.lstrip(\"#\"))"
   ]
  },
  {
   "cell_type": "code",
   "execution_count": 999,
   "id": "2490c863-1198-461f-8c1e-a5fa936a07ed",
   "metadata": {},
   "outputs": [],
   "source": [
    "## Removing multiple characters from the left"
   ]
  },
  {
   "cell_type": "code",
   "execution_count": 1001,
   "id": "0efb791c-7113-49d6-9843-2786faec363d",
   "metadata": {},
   "outputs": [
    {
     "name": "stdout",
     "output_type": "stream",
     "text": [
      "Welcome to Jupyter Notebook***!!!\n"
     ]
    }
   ],
   "source": [
    "text3 = \"!!!***Welcome to Jupyter Notebook***!!!\"\n",
    "print(text3.lstrip(\"!*\"))"
   ]
  },
  {
   "cell_type": "code",
   "execution_count": 1013,
   "id": "d5d38c7b-b9c7-403b-af40-7cf99facb03a",
   "metadata": {},
   "outputs": [],
   "source": [
    "## Removing numbers from the left"
   ]
  },
  {
   "cell_type": "code",
   "execution_count": 1015,
   "id": "ba3d282b-f3e7-4605-9f38-dbc0382b0646",
   "metadata": {},
   "outputs": [
    {
     "name": "stdout",
     "output_type": "stream",
     "text": [
      "Data Science\n"
     ]
    }
   ],
   "source": [
    "text4 = \"12345Data Science\"\n",
    "print(text4.lstrip(\"0123456789\"))  "
   ]
  },
  {
   "cell_type": "code",
   "execution_count": 1017,
   "id": "321ae32b-2f69-4e97-b5f5-0b39091c5923",
   "metadata": {},
   "outputs": [],
   "source": [
    "## When no leading characters to strip"
   ]
  },
  {
   "cell_type": "code",
   "execution_count": 1019,
   "id": "f1d2291f-4ebc-42e5-a869-37584b433bca",
   "metadata": {},
   "outputs": [
    {
     "name": "stdout",
     "output_type": "stream",
     "text": [
      "achine Learning\n"
     ]
    }
   ],
   "source": [
    "text5 = \"Machine Learning\"\n",
    "print(text5.lstrip(\"M\"))"
   ]
  },
  {
   "cell_type": "markdown",
   "id": "071b3b5f-c15f-42d3-b5af-fadc2cfbcea3",
   "metadata": {},
   "source": [
    "## maketrans"
   ]
  },
  {
   "cell_type": "code",
   "execution_count": 1022,
   "id": "f10f7b09-3277-44af-ad51-5515a3c66eda",
   "metadata": {},
   "outputs": [],
   "source": [
    "## Simple character replacement"
   ]
  },
  {
   "cell_type": "code",
   "execution_count": 1024,
   "id": "c0a0bf9e-a48d-4140-a36f-df68ea6543e3",
   "metadata": {},
   "outputs": [
    {
     "name": "stdout",
     "output_type": "stream",
     "text": [
      "HELLO wOrLd\n"
     ]
    }
   ],
   "source": [
    "text = \"hello world\"\n",
    "trans_table = str.maketrans(\"helo\", \"HELO\")\n",
    "print(text.translate(trans_table))"
   ]
  },
  {
   "cell_type": "code",
   "execution_count": 1033,
   "id": "b9a99b3e-1eec-40f1-9e78-b651c322f4d5",
   "metadata": {},
   "outputs": [],
   "source": [
    "## Removing specific characters"
   ]
  },
  {
   "cell_type": "code",
   "execution_count": 1035,
   "id": "23fa3b4b-4665-4a7d-85f0-7ccdffa70c4b",
   "metadata": {},
   "outputs": [
    {
     "name": "stdout",
     "output_type": "stream",
     "text": [
      "hello world\n"
     ]
    }
   ],
   "source": [
    "text = \"hello, world!\"\n",
    "trans_table = str.maketrans(\"\", \"\", \"!,\")\n",
    "print(text.translate(trans_table))"
   ]
  },
  {
   "cell_type": "code",
   "execution_count": 1037,
   "id": "fd8f78f7-0602-4f3e-9593-e10036fcbd33",
   "metadata": {},
   "outputs": [],
   "source": [
    "## Swapping multiple words"
   ]
  },
  {
   "cell_type": "code",
   "execution_count": 1039,
   "id": "b21c684f-c108-471d-ba4a-3cf3aa2eadc4",
   "metadata": {},
   "outputs": [
    {
     "name": "stdout",
     "output_type": "stream",
     "text": [
      "Apple BAnAnA Cherry\n"
     ]
    }
   ],
   "source": [
    "text = \"apple banana cherry\"\n",
    "trans_table = str.maketrans({\"a\": \"A\", \"b\": \"B\", \"c\": \"C\"})\n",
    "print(text.translate(trans_table))"
   ]
  },
  {
   "cell_type": "code",
   "execution_count": 1041,
   "id": "c3dd5f1f-3a91-4711-bb3d-845b79122ef4",
   "metadata": {},
   "outputs": [],
   "source": [
    "## Translating digits"
   ]
  },
  {
   "cell_type": "code",
   "execution_count": 1043,
   "id": "f3c58d6d-03e6-47af-9901-cfe4ce120979",
   "metadata": {},
   "outputs": [
    {
     "name": "stdout",
     "output_type": "stream",
     "text": [
      "My number is ABCDE\n"
     ]
    }
   ],
   "source": [
    "text = \"My number is 12345\"\n",
    "trans_table = str.maketrans(\"12345\", \"ABCDE\")\n",
    "print(text.translate(trans_table))"
   ]
  },
  {
   "cell_type": "code",
   "execution_count": 1052,
   "id": "14d0045e-8706-4317-b034-12848d0571cb",
   "metadata": {},
   "outputs": [],
   "source": [
    "##  Using Unicode characters"
   ]
  },
  {
   "cell_type": "code",
   "execution_count": 1054,
   "id": "0c8aebd2-e013-4d57-a531-bf796bad4d86",
   "metadata": {},
   "outputs": [
    {
     "name": "stdout",
     "output_type": "stream",
     "text": [
      "cafe\n"
     ]
    }
   ],
   "source": [
    "text = \"café\"\n",
    "trans_table = str.maketrans(\"é\", \"e\")\n",
    "print(text.translate(trans_table))"
   ]
  },
  {
   "cell_type": "markdown",
   "id": "5eeb1f1e-32c2-4b8a-9f33-9bebceb0d141",
   "metadata": {},
   "source": [
    "## partition"
   ]
  },
  {
   "cell_type": "code",
   "execution_count": 1057,
   "id": "917d1302-8b01-45e1-8456-c292b9780dcd",
   "metadata": {},
   "outputs": [],
   "source": [
    "##Basic partition usage"
   ]
  },
  {
   "cell_type": "code",
   "execution_count": 1071,
   "id": "cfe2f120-0160-44e1-bca7-877c9c9a8475",
   "metadata": {},
   "outputs": [
    {
     "name": "stdout",
     "output_type": "stream",
     "text": [
      "('apple', '-', 'banana-cherry')\n"
     ]
    }
   ],
   "source": [
    "text1 = \"apple-banana-cherry\"\n",
    "result1 = text1.partition(\"-\")\n",
    "print(result1) "
   ]
  },
  {
   "cell_type": "code",
   "execution_count": 1073,
   "id": "bab9a5b8-dbd8-445d-9e8c-fd871304a2ca",
   "metadata": {},
   "outputs": [],
   "source": [
    "## Partition with a missing separator"
   ]
  },
  {
   "cell_type": "code",
   "execution_count": 1075,
   "id": "73090d62-9e8e-494d-95ef-6b57e7006387",
   "metadata": {},
   "outputs": [
    {
     "name": "stdout",
     "output_type": "stream",
     "text": [
      "('hello world', '', '')\n"
     ]
    }
   ],
   "source": [
    "text2 = \"hello world\"\n",
    "result2 = text2.partition(\",\")\n",
    "print(result2) "
   ]
  },
  {
   "cell_type": "code",
   "execution_count": 1077,
   "id": "cc448ea4-9f6d-4fd9-8adf-a345d814a6e9",
   "metadata": {},
   "outputs": [],
   "source": [
    "## Partition at the first occurrence"
   ]
  },
  {
   "cell_type": "code",
   "execution_count": 1079,
   "id": "52f699ae-c8cc-4a88-9c54-d667d861b343",
   "metadata": {},
   "outputs": [
    {
     "name": "stdout",
     "output_type": "stream",
     "text": [
      "('', 'python', ' is awesome and python is fun')\n"
     ]
    }
   ],
   "source": [
    "text3 = \"python is awesome and python is fun\"\n",
    "result3 = text3.partition(\"python\")\n",
    "print(result3)"
   ]
  },
  {
   "cell_type": "code",
   "execution_count": 1081,
   "id": "c2836145-6f19-4bb2-bd42-0adc54bc8cad",
   "metadata": {},
   "outputs": [],
   "source": [
    "## Partition with numeric string"
   ]
  },
  {
   "cell_type": "code",
   "execution_count": 1083,
   "id": "919a62f7-bd09-4e61-8952-a3dbe079e52b",
   "metadata": {},
   "outputs": [
    {
     "name": "stdout",
     "output_type": "stream",
     "text": [
      "('123', '-', '456-789')\n"
     ]
    }
   ],
   "source": [
    "text4 = \"123-456-789\"\n",
    "result4 = text4.partition(\"-\")\n",
    "print(result4)  "
   ]
  },
  {
   "cell_type": "code",
   "execution_count": 1095,
   "id": "afc9783d-b243-453c-a57b-135a64ae99ea",
   "metadata": {},
   "outputs": [],
   "source": [
    "## Partitioning with a space"
   ]
  },
  {
   "cell_type": "code",
   "execution_count": 1097,
   "id": "7d05bedf-076a-4fcb-9a2f-9e6bbbe1463b",
   "metadata": {},
   "outputs": [
    {
     "name": "stdout",
     "output_type": "stream",
     "text": [
      "('Learn', ' ', 'Python Programming')\n"
     ]
    }
   ],
   "source": [
    "text5 = \"Learn Python Programming\"\n",
    "result5 = text5.partition(\" \")\n",
    "print(result5)"
   ]
  },
  {
   "cell_type": "markdown",
   "id": "195cf062-d3bb-49f7-87b1-181504c267b6",
   "metadata": {},
   "source": [
    "## replace"
   ]
  },
  {
   "cell_type": "code",
   "execution_count": 1100,
   "id": "ef6f69b2-2559-4001-a671-6102f51c7308",
   "metadata": {},
   "outputs": [],
   "source": [
    "## Replacing a substring in a string"
   ]
  },
  {
   "cell_type": "code",
   "execution_count": 1102,
   "id": "2320cf58-d710-4771-a7f2-d871a4c72a61",
   "metadata": {},
   "outputs": [
    {
     "name": "stdout",
     "output_type": "stream",
     "text": [
      "Hello Python\n"
     ]
    }
   ],
   "source": [
    "text = \"Hello World\"\n",
    "new_text = text.replace(\"World\", \"Python\")\n",
    "print(new_text)"
   ]
  },
  {
   "cell_type": "code",
   "execution_count": 1104,
   "id": "4e17220a-fcc9-431b-9d11-8bdd2128adce",
   "metadata": {},
   "outputs": [],
   "source": [
    "## Replacing multiple occurrences of a word"
   ]
  },
  {
   "cell_type": "code",
   "execution_count": 1119,
   "id": "0a470675-eefa-451d-beb0-d526b073ec50",
   "metadata": {},
   "outputs": [
    {
     "name": "stdout",
     "output_type": "stream",
     "text": [
      "grape banana grape orange grape\n"
     ]
    }
   ],
   "source": [
    "text = \"apple banana apple orange apple\"\n",
    "new_text = text.replace(\"apple\", \"grape\")\n",
    "print(new_text)"
   ]
  },
  {
   "cell_type": "code",
   "execution_count": 1121,
   "id": "4f341d30-ca94-409d-9e7e-9cb82bd12c3e",
   "metadata": {},
   "outputs": [],
   "source": [
    "## Replacing multiple values using a dictionary"
   ]
  },
  {
   "cell_type": "code",
   "execution_count": 1123,
   "id": "4ad0422f-542a-4688-915f-bb6b0315fcb5",
   "metadata": {},
   "outputs": [
    {
     "name": "stdout",
     "output_type": "stream",
     "text": [
      "0     grape\n",
      "1     melon\n",
      "2     grape\n",
      "3    orange\n",
      "dtype: object\n"
     ]
    }
   ],
   "source": [
    "import pandas as pd\n",
    "\n",
    "data = pd.Series([\"apple\", \"banana\", \"apple\", \"orange\"])\n",
    "new_data = data.replace({\"apple\": \"grape\", \"banana\": \"melon\"})\n",
    "print(new_data)"
   ]
  },
  {
   "cell_type": "code",
   "execution_count": 1125,
   "id": "f7c2e685-2969-46f0-806b-bfd683e6568e",
   "metadata": {},
   "outputs": [],
   "source": [
    "## Replacing characters in a string"
   ]
  },
  {
   "cell_type": "code",
   "execution_count": 1127,
   "id": "0583a889-857b-4484-a3b0-3abd4645ea9c",
   "metadata": {},
   "outputs": [
    {
     "name": "stdout",
     "output_type": "stream",
     "text": [
      "123 456 789\n"
     ]
    }
   ],
   "source": [
    "text = \"123-456-789\"\n",
    "new_text = text.replace(\"-\", \" \")\n",
    "print(new_text)"
   ]
  },
  {
   "cell_type": "code",
   "execution_count": 1129,
   "id": "f6873808-3549-457f-8947-38a47fdf3d71",
   "metadata": {},
   "outputs": [],
   "source": [
    "##  Replacing multiple characters using regex (Pandas)"
   ]
  },
  {
   "cell_type": "code",
   "execution_count": null,
   "id": "d92d8cb4-34e7-47ec-b367-899f707cf1c3",
   "metadata": {},
   "outputs": [],
   "source": [
    "import pandas as pd\n",
    "df = pd.DataFrame({\"Names\": [\"John_Doe\", \"Jane-Doe\", \"Alice.Doe\"]})\n",
    "df[\"Names\"] = df[\"Names\"].replace({\"[_\\-.]\": \" \"}, regex=True)\n",
    "print(df)"
   ]
  },
  {
   "cell_type": "markdown",
   "id": "2bb0263e-8d7f-429d-a4ef-6c0c62e191cb",
   "metadata": {},
   "source": [
    "## rfind"
   ]
  },
  {
   "cell_type": "code",
   "execution_count": 1141,
   "id": "6441bd75-1dcf-43a5-a192-0b166830e4a6",
   "metadata": {},
   "outputs": [],
   "source": [
    "## Basic usage of rfind()"
   ]
  },
  {
   "cell_type": "code",
   "execution_count": 1143,
   "id": "809ef377-1152-48b5-9bdb-b21508292a29",
   "metadata": {},
   "outputs": [
    {
     "name": "stdout",
     "output_type": "stream",
     "text": [
      "Last occurrence of 'world' is at index: 28\n"
     ]
    }
   ],
   "source": [
    "text = \"hello world, welcome to the world of Python\"\n",
    "position = text.rfind(\"world\")\n",
    "print(\"Last occurrence of 'world' is at index:\", position)"
   ]
  },
  {
   "cell_type": "code",
   "execution_count": 1145,
   "id": "ebbd6640-d508-49e9-a992-f6999cf76b2a",
   "metadata": {},
   "outputs": [],
   "source": [
    "## When substring is not found"
   ]
  },
  {
   "cell_type": "code",
   "execution_count": 1147,
   "id": "99f53f48-4ef2-4f66-ad1e-79e9eee7ea69",
   "metadata": {},
   "outputs": [
    {
     "name": "stdout",
     "output_type": "stream",
     "text": [
      "If substring is not found, rfind() returns: -1\n"
     ]
    }
   ],
   "source": [
    "position = text.rfind(\"Java\")\n",
    "print(\"If substring is not found, rfind() returns:\", position)"
   ]
  },
  {
   "cell_type": "code",
   "execution_count": 1149,
   "id": "27e24b06-2c76-4c84-9d14-78a184e4c1fd",
   "metadata": {},
   "outputs": [],
   "source": [
    "##  Using rfind() with start and end arguments"
   ]
  },
  {
   "cell_type": "code",
   "execution_count": 1158,
   "id": "60e92619-7e84-4762-a2a6-b2a3f04585ce",
   "metadata": {},
   "outputs": [
    {
     "name": "stdout",
     "output_type": "stream",
     "text": [
      "Searching 'world' within first 20 characters, found at index: 6\n"
     ]
    }
   ],
   "source": [
    "position = text.rfind(\"world\", 0, 20)\n",
    "print(\"Searching 'world' within first 20 characters, found at index:\", position)"
   ]
  },
  {
   "cell_type": "code",
   "execution_count": 1160,
   "id": "756ac6d8-a266-402b-8737-d61cc8ce7c2e",
   "metadata": {},
   "outputs": [],
   "source": [
    "##  rfind() with overlapping substrings"
   ]
  },
  {
   "cell_type": "code",
   "execution_count": 1162,
   "id": "9fbdd94c-af25-40f0-9107-85fde28df6f7",
   "metadata": {},
   "outputs": [
    {
     "name": "stdout",
     "output_type": "stream",
     "text": [
      "Last occurrence of 'ab' is at index: 6\n"
     ]
    }
   ],
   "source": [
    "text2 = \"abababab\"\n",
    "position = text2.rfind(\"ab\")\n",
    "print(\"Last occurrence of 'ab' is at index:\", position)"
   ]
  },
  {
   "cell_type": "code",
   "execution_count": 1164,
   "id": "09394640-560e-4da0-9940-50df421ad811",
   "metadata": {},
   "outputs": [],
   "source": [
    "## Finding a character instead of a word"
   ]
  },
  {
   "cell_type": "code",
   "execution_count": 1169,
   "id": "3ec3bd0a-293a-4034-a8d5-6adf28addd1c",
   "metadata": {},
   "outputs": [
    {
     "name": "stdout",
     "output_type": "stream",
     "text": [
      "Last occurrence of 'o' is at index: 41\n"
     ]
    }
   ],
   "source": [
    "position = text.rfind(\"o\")\n",
    "print(\"Last occurrence of 'o' is at index:\", position)"
   ]
  },
  {
   "cell_type": "markdown",
   "id": "8677f3b1-cca8-4396-91e6-7edc009f3c2d",
   "metadata": {},
   "source": [
    "## rindex"
   ]
  },
  {
   "cell_type": "code",
   "execution_count": 1187,
   "id": "2d3e50f7-874d-4076-b7f0-a5de092faf2a",
   "metadata": {},
   "outputs": [],
   "source": [
    "## Basic usage of rindex"
   ]
  },
  {
   "cell_type": "code",
   "execution_count": 1189,
   "id": "9b449dab-e02d-4c16-97ab-b5479e220756",
   "metadata": {},
   "outputs": [
    {
     "name": "stdout",
     "output_type": "stream",
     "text": [
      "Rightmost index of 'hello': 13\n"
     ]
    }
   ],
   "source": [
    "text = \"hello world, hello universe\"\n",
    "index = text.rindex(\"hello\")\n",
    "print(\"Rightmost index of 'hello':\", index)"
   ]
  },
  {
   "cell_type": "code",
   "execution_count": 1191,
   "id": "e295e60b-6065-4cc0-9855-839138d32459",
   "metadata": {},
   "outputs": [],
   "source": [
    "## Finding last occurrence of a single character"
   ]
  },
  {
   "cell_type": "code",
   "execution_count": 1193,
   "id": "985b5b08-32da-4ef1-b613-af0a5f9a61f5",
   "metadata": {},
   "outputs": [
    {
     "name": "stdout",
     "output_type": "stream",
     "text": [
      "Rightmost index of 'a': 5\n"
     ]
    }
   ],
   "source": [
    "text = \"banana\"\n",
    "index = text.rindex(\"a\")\n",
    "print(\"Rightmost index of 'a':\", index)"
   ]
  },
  {
   "cell_type": "code",
   "execution_count": 1195,
   "id": "0dba304f-103c-48cb-99f8-9eff34e03922",
   "metadata": {},
   "outputs": [],
   "source": [
    "## Using rindex() with a substring"
   ]
  },
  {
   "cell_type": "code",
   "execution_count": 1197,
   "id": "be544ed9-e50a-49af-99f9-81b2bb6dc130",
   "metadata": {},
   "outputs": [
    {
     "name": "stdout",
     "output_type": "stream",
     "text": [
      "Rightmost index of 'programming': 31\n"
     ]
    }
   ],
   "source": [
    "text = \"Python programming is fun, and programming is powerful.\"\n",
    "index = text.rindex(\"programming\")\n",
    "print(\"Rightmost index of 'programming':\", index)"
   ]
  },
  {
   "cell_type": "code",
   "execution_count": 1199,
   "id": "a59d750e-9984-4eb1-a631-6d57530eba33",
   "metadata": {},
   "outputs": [],
   "source": [
    "## Specifying start and end index"
   ]
  },
  {
   "cell_type": "code",
   "execution_count": 1201,
   "id": "fce1c6b0-0ff4-4ba7-8933-2be834cb1491",
   "metadata": {},
   "outputs": [
    {
     "name": "stdout",
     "output_type": "stream",
     "text": [
      "Rightmost index of 'a' within range (0,7): 6\n"
     ]
    }
   ],
   "source": [
    "text = \"abcdefabc\"\n",
    "index = text.rindex(\"a\", 0, 7)\n",
    "print(\"Rightmost index of 'a' within range (0,7):\", index)"
   ]
  },
  {
   "cell_type": "code",
   "execution_count": 1203,
   "id": "a7678e48-8908-4d58-955b-4e8e13f978b0",
   "metadata": {},
   "outputs": [],
   "source": [
    "## Handling ValueError when substring is not found"
   ]
  },
  {
   "cell_type": "code",
   "execution_count": 1205,
   "id": "ba5dfdcb-8d00-4631-9f78-56fdd8707746",
   "metadata": {},
   "outputs": [
    {
     "name": "stdout",
     "output_type": "stream",
     "text": [
      "Substring not found!\n"
     ]
    }
   ],
   "source": [
    "text = \"data science\"\n",
    "try:\n",
    "    index = text.rindex(\"machine\")\n",
    "    print(\"Rightmost index of 'machine':\", index)\n",
    "except ValueError:\n",
    "    print(\"Substring not found!\")"
   ]
  },
  {
   "cell_type": "markdown",
   "id": "46121921-12a4-4a6b-969f-cf6742c10b5d",
   "metadata": {},
   "source": [
    "## Rjust"
   ]
  },
  {
   "cell_type": "code",
   "execution_count": 1209,
   "id": "8954e21b-7dad-440f-8e41-8fd785897611",
   "metadata": {},
   "outputs": [],
   "source": [
    "## Right-justify with spaces"
   ]
  },
  {
   "cell_type": "code",
   "execution_count": 1213,
   "id": "f689a8e6-5316-47b8-925f-1c975a3da877",
   "metadata": {},
   "outputs": [
    {
     "name": "stdout",
     "output_type": "stream",
     "text": [
      "     Hello\n"
     ]
    }
   ],
   "source": [
    "text = \"Hello\"\n",
    "print(text.rjust(10)) "
   ]
  },
  {
   "cell_type": "code",
   "execution_count": 1223,
   "id": "662ea343-7e2c-4661-8052-9702fa247095",
   "metadata": {},
   "outputs": [],
   "source": [
    "## Right-justify with zeros"
   ]
  },
  {
   "cell_type": "code",
   "execution_count": 1225,
   "id": "f17fe0a3-e1a7-4d24-a75e-30ec93a9ff6d",
   "metadata": {},
   "outputs": [
    {
     "name": "stdout",
     "output_type": "stream",
     "text": [
      "00042\n"
     ]
    }
   ],
   "source": [
    "num = \"42\"\n",
    "print(num.rjust(5, '0'))"
   ]
  },
  {
   "cell_type": "code",
   "execution_count": 1227,
   "id": "d052e735-4f34-429f-ab9e-b11bd6d2f9b1",
   "metadata": {},
   "outputs": [],
   "source": [
    "## Aligning multiple strings"
   ]
  },
  {
   "cell_type": "code",
   "execution_count": 1229,
   "id": "6c0c95ea-f503-452f-9379-203ea94cdee8",
   "metadata": {},
   "outputs": [
    {
     "name": "stdout",
     "output_type": "stream",
     "text": [
      "       cat\n",
      "     tiger\n",
      "  elephant\n"
     ]
    }
   ],
   "source": [
    "words = [\"cat\", \"tiger\", \"elephant\"]\n",
    "for word in words:\n",
    "    print(word.rjust(10))"
   ]
  },
  {
   "cell_type": "code",
   "execution_count": 1239,
   "id": "3414c80c-e754-49d4-a986-31d5d7322ab3",
   "metadata": {},
   "outputs": [],
   "source": [
    "## Using custom fill character"
   ]
  },
  {
   "cell_type": "code",
   "execution_count": 1241,
   "id": "757c7017-7386-49e7-9400-16a4d9002b5b",
   "metadata": {},
   "outputs": [
    {
     "name": "stdout",
     "output_type": "stream",
     "text": [
      "------Python\n"
     ]
    }
   ],
   "source": [
    "title = \"Python\"\n",
    "print(title.rjust(12, '-'))"
   ]
  },
  {
   "cell_type": "code",
   "execution_count": 1243,
   "id": "34602c8d-3a9d-4f0c-8984-447409dbbdf2",
   "metadata": {},
   "outputs": [],
   "source": [
    "## Width smaller than string length"
   ]
  },
  {
   "cell_type": "code",
   "execution_count": 1245,
   "id": "cc9f254d-9180-4fea-a17c-5ebefdf8b57c",
   "metadata": {},
   "outputs": [
    {
     "name": "stdout",
     "output_type": "stream",
     "text": [
      "Notebook\n"
     ]
    }
   ],
   "source": [
    "text = \"Notebook\"\n",
    "print(text.rjust(5))  # No change, as 5 < len(\"Notebook\")"
   ]
  },
  {
   "cell_type": "markdown",
   "id": "bbfd5430-f2b6-464d-ba75-582ab6f64ea8",
   "metadata": {},
   "source": [
    "## rpartition"
   ]
  },
  {
   "cell_type": "code",
   "execution_count": 1263,
   "id": "ab3e351b-651b-488c-9daf-731dee01e2c5",
   "metadata": {},
   "outputs": [],
   "source": [
    "## Basic usage"
   ]
  },
  {
   "cell_type": "code",
   "execution_count": 1265,
   "id": "a3568817-3a61-41f3-b3f1-efc0c685f096",
   "metadata": {},
   "outputs": [
    {
     "name": "stdout",
     "output_type": "stream",
     "text": [
      "('apple-orange', '-', 'banana')\n"
     ]
    }
   ],
   "source": [
    "text = \"apple-orange-banana\"\n",
    "result = text.rpartition('-')\n",
    "print(result) "
   ]
  },
  {
   "cell_type": "code",
   "execution_count": 1267,
   "id": "5c48e5ea-cc18-45ea-bb50-b4cf8a69edb4",
   "metadata": {},
   "outputs": [],
   "source": [
    "## Separator at the end"
   ]
  },
  {
   "cell_type": "code",
   "execution_count": 1275,
   "id": "fd24b239-363c-4db0-98f4-c8f9f8e7f84f",
   "metadata": {},
   "outputs": [
    {
     "name": "stdout",
     "output_type": "stream",
     "text": [
      "('pizza', '-', '')\n"
     ]
    }
   ],
   "source": [
    "text = \"pizza-\"\n",
    "result = text.rpartition('-')\n",
    "print(result)  "
   ]
  },
  {
   "cell_type": "code",
   "execution_count": 1277,
   "id": "d9be5971-e5bd-4347-a8de-e84c0645eb37",
   "metadata": {},
   "outputs": [],
   "source": [
    "## Separator not found"
   ]
  },
  {
   "cell_type": "code",
   "execution_count": 1279,
   "id": "5ba88371-1b2b-45f4-9cfe-7f1eeced02fe",
   "metadata": {},
   "outputs": [
    {
     "name": "stdout",
     "output_type": "stream",
     "text": [
      "('', '', 'hello world')\n"
     ]
    }
   ],
   "source": [
    "text = \"hello world\"\n",
    "result = text.rpartition(',')\n",
    "print(result) "
   ]
  },
  {
   "cell_type": "code",
   "execution_count": 1281,
   "id": "fd5f7466-bd6a-4a93-a191-5c609717add6",
   "metadata": {},
   "outputs": [],
   "source": [
    "## File path split"
   ]
  },
  {
   "cell_type": "code",
   "execution_count": 1283,
   "id": "e54ae167-8585-49e3-b70e-214e1d767e56",
   "metadata": {},
   "outputs": [
    {
     "name": "stdout",
     "output_type": "stream",
     "text": [
      "('/home/user/documents', '/', 'report.txt')\n"
     ]
    }
   ],
   "source": [
    "path = \"/home/user/documents/report.txt\"\n",
    "result = path.rpartition('/')\n",
    "print(result)  "
   ]
  },
  {
   "cell_type": "code",
   "execution_count": 1285,
   "id": "4a1301db-e553-49d6-9aee-186af21ae2c8",
   "metadata": {},
   "outputs": [],
   "source": [
    "## Numbers with last operator"
   ]
  },
  {
   "cell_type": "code",
   "execution_count": 1299,
   "id": "c435e8f3-8f25-4db9-bf13-e75c2b9b03d5",
   "metadata": {},
   "outputs": [
    {
     "name": "stdout",
     "output_type": "stream",
     "text": [
      "('10+20', '+', '30')\n"
     ]
    }
   ],
   "source": [
    "expression = \"10+20+30\"\n",
    "result = expression.rpartition('+')\n",
    "print(result)"
   ]
  },
  {
   "cell_type": "markdown",
   "id": "b147e04c-8aa5-4b53-8f37-688fe2259e54",
   "metadata": {},
   "source": [
    "## rsplit"
   ]
  },
  {
   "cell_type": "code",
   "execution_count": 1302,
   "id": "186c696e-4e30-4681-8a99-655fd1d7a04d",
   "metadata": {},
   "outputs": [],
   "source": [
    "##Basic usage with default maxsplit"
   ]
  },
  {
   "cell_type": "code",
   "execution_count": 1330,
   "id": "27164f81-9a82-4fd5-82bc-5ace45edebb1",
   "metadata": {},
   "outputs": [
    {
     "name": "stdout",
     "output_type": "stream",
     "text": [
      "['apple,banana,cherry', 'dates']\n"
     ]
    }
   ],
   "source": [
    "text = \"apple,banana,cherry,dates\"\n",
    "result = text.rsplit(\",\", 1)\n",
    "print(result)  "
   ]
  },
  {
   "cell_type": "code",
   "execution_count": 1332,
   "id": "98c5c694-0f35-4782-98c0-b5027f6a03b2",
   "metadata": {},
   "outputs": [],
   "source": [
    "## Using maxsplit = 2"
   ]
  },
  {
   "cell_type": "code",
   "execution_count": 1333,
   "id": "6dbe1a1e-485d-4e28-aee4-df66a2c7012c",
   "metadata": {},
   "outputs": [
    {
     "name": "stdout",
     "output_type": "stream",
     "text": [
      "['one two', 'three', 'four']\n"
     ]
    }
   ],
   "source": [
    "text = \"one two three four\"\n",
    "result = text.rsplit(\" \", 2)\n",
    "print(result)"
   ]
  },
  {
   "cell_type": "code",
   "execution_count": 1334,
   "id": "f2e870cd-5225-4020-aecd-a652ceb96466",
   "metadata": {},
   "outputs": [],
   "source": [
    "## rsplit() with no arguments"
   ]
  },
  {
   "cell_type": "code",
   "execution_count": 1337,
   "id": "41fae2ad-720a-4994-a463-bfbedc3aa81b",
   "metadata": {},
   "outputs": [
    {
     "name": "stdout",
     "output_type": "stream",
     "text": [
      "['Hello', 'world', 'from', 'Python']\n"
     ]
    }
   ],
   "source": [
    "text = \"   Hello   world   from   Python   \"\n",
    "result = text.rsplit()\n",
    "print(result) "
   ]
  },
  {
   "cell_type": "code",
   "execution_count": 1338,
   "id": "9f1982fe-487d-4f58-9b8a-f2ffcb8077ef",
   "metadata": {},
   "outputs": [],
   "source": [
    "## rsplit with maxsplit = 0 (no splitting)"
   ]
  },
  {
   "cell_type": "code",
   "execution_count": 1340,
   "id": "534f62f1-b8aa-46ef-8f9c-b6661b7ac5be",
   "metadata": {},
   "outputs": [
    {
     "name": "stdout",
     "output_type": "stream",
     "text": [
      "['cat/dog/bird']\n"
     ]
    }
   ],
   "source": [
    "text = \"cat/dog/bird\"\n",
    "result = text.rsplit(\"/\", 0)\n",
    "print(result)  "
   ]
  },
  {
   "cell_type": "code",
   "execution_count": 1344,
   "id": "9c818d88-1596-4524-9872-0ac71bc36fcb",
   "metadata": {},
   "outputs": [],
   "source": [
    "##  rsplit with different delimiter"
   ]
  },
  {
   "cell_type": "code",
   "execution_count": 1346,
   "id": "1b2dfc66-63aa-44a8-ab4d-847b70568dff",
   "metadata": {},
   "outputs": [
    {
     "name": "stdout",
     "output_type": "stream",
     "text": [
      "['name|age', 'location', 'country']\n"
     ]
    }
   ],
   "source": [
    "text = \"name|age|location|country\"\n",
    "result = text.rsplit(\"|\", 2)\n",
    "print(result)  "
   ]
  },
  {
   "cell_type": "markdown",
   "id": "c754b116-30ed-4e77-90b7-fb31991ca102",
   "metadata": {},
   "source": [
    "## rstrip"
   ]
  },
  {
   "cell_type": "code",
   "execution_count": 1362,
   "id": "003546a4-695f-4764-aa54-d9e2055cd7ee",
   "metadata": {},
   "outputs": [],
   "source": [
    "## Removing trailing whitespace"
   ]
  },
  {
   "cell_type": "code",
   "execution_count": 1364,
   "id": "434c0fcc-417b-4e3a-b9f3-8bfe577940b2",
   "metadata": {},
   "outputs": [
    {
     "name": "stdout",
     "output_type": "stream",
     "text": [
      "'Hello, world!'\n"
     ]
    }
   ],
   "source": [
    "text = \"Hello, world!   \"\n",
    "cleaned_text = text.rstrip()\n",
    "print(f\"'{cleaned_text}'\")  "
   ]
  },
  {
   "cell_type": "code",
   "execution_count": 1366,
   "id": "10b4117f-a1a1-4b6f-84fb-c33e093e6b39",
   "metadata": {},
   "outputs": [],
   "source": [
    "## Removing a specific character (e.g., '!')"
   ]
  },
  {
   "cell_type": "code",
   "execution_count": 1368,
   "id": "a935987f-dc13-4987-bc62-53bbf18678d5",
   "metadata": {},
   "outputs": [
    {
     "name": "stdout",
     "output_type": "stream",
     "text": [
      "Wow\n"
     ]
    }
   ],
   "source": [
    "text = \"Wow!!!\"\n",
    "cleaned_text = text.rstrip(\"!\")\n",
    "print(cleaned_text)  "
   ]
  },
  {
   "cell_type": "code",
   "execution_count": 1370,
   "id": "1462c136-5256-4646-b57e-75c766422876",
   "metadata": {},
   "outputs": [],
   "source": [
    "## Removing multiple trailing characters (e.g., '!?')"
   ]
  },
  {
   "cell_type": "code",
   "execution_count": 1372,
   "id": "6cffacf4-8531-44a2-b75c-06b1f1ecd690",
   "metadata": {},
   "outputs": [
    {
     "name": "stdout",
     "output_type": "stream",
     "text": [
      "What happened\n"
     ]
    }
   ],
   "source": [
    "text = \"What happened?!??!\"\n",
    "cleaned_text = text.rstrip(\"?!\")\n",
    "print(cleaned_text)  "
   ]
  },
  {
   "cell_type": "code",
   "execution_count": 1384,
   "id": "19019099-3507-4fca-a911-bfa4c6e3ffc5",
   "metadata": {},
   "outputs": [],
   "source": [
    "## Removing trailing newline characters"
   ]
  },
  {
   "cell_type": "code",
   "execution_count": 1386,
   "id": "3f5bbd32-303e-44ce-964d-1f9736f132f9",
   "metadata": {},
   "outputs": [
    {
     "name": "stdout",
     "output_type": "stream",
     "text": [
      "'Line with newline'\n"
     ]
    }
   ],
   "source": [
    "text = \"Line with newline\\n\\n\"\n",
    "cleaned_text = text.rstrip()\n",
    "print(repr(cleaned_text))"
   ]
  },
  {
   "cell_type": "code",
   "execution_count": 1388,
   "id": "3810af24-7417-493c-8af5-509f7c62c7b1",
   "metadata": {},
   "outputs": [],
   "source": [
    "## Using rstrip() before saving cleaned text to a file"
   ]
  },
  {
   "cell_type": "code",
   "execution_count": 1392,
   "id": "a9959092-1f75-47b2-938b-27a5a4ea13a1",
   "metadata": {},
   "outputs": [
    {
     "name": "stdout",
     "output_type": "stream",
     "text": [
      "'First line'\n",
      "'Second line'\n",
      "'Third line'\n"
     ]
    }
   ],
   "source": [
    "raw_lines = [\"First line   \\n\", \"Second line\\t\\n\", \"Third line\\n\"]\n",
    "cleaned_lines = [line.rstrip() for line in raw_lines]\n",
    "\n",
    "for line in cleaned_lines:\n",
    "    print(repr(line))"
   ]
  },
  {
   "cell_type": "markdown",
   "id": "3ee529d6-a9c6-4691-867a-5e506189cc74",
   "metadata": {},
   "source": [
    "## split"
   ]
  },
  {
   "cell_type": "code",
   "execution_count": 1395,
   "id": "e57797df-595c-43b6-a44b-78372e506164",
   "metadata": {},
   "outputs": [],
   "source": [
    "## Splitting a sentence into words"
   ]
  },
  {
   "cell_type": "code",
   "execution_count": 1397,
   "id": "e8c51d6a-46c2-45cd-9710-cfb8d2b5800b",
   "metadata": {},
   "outputs": [
    {
     "name": "stdout",
     "output_type": "stream",
     "text": [
      "['Jupyter', 'Notebook', 'is', 'great', 'for', 'Python']\n"
     ]
    }
   ],
   "source": [
    "sentence = \"Jupyter Notebook is great for Python\"\n",
    "words = sentence.split()\n",
    "print(words)"
   ]
  },
  {
   "cell_type": "code",
   "execution_count": 1399,
   "id": "628576a9-e632-4eae-b839-1d0e505064ed",
   "metadata": {},
   "outputs": [],
   "source": [
    "## Splitting using a comma"
   ]
  },
  {
   "cell_type": "code",
   "execution_count": 1401,
   "id": "86524b57-912d-4ebe-ad60-7a4cfdadf421",
   "metadata": {},
   "outputs": [
    {
     "name": "stdout",
     "output_type": "stream",
     "text": [
      "['apple', 'banana', 'grape', 'orange']\n"
     ]
    }
   ],
   "source": [
    "csv_data = \"apple,banana,grape,orange\"\n",
    "fruits = csv_data.split(',')\n",
    "print(fruits) "
   ]
  },
  {
   "cell_type": "code",
   "execution_count": 1415,
   "id": "a6f31772-d723-40c6-9c46-f43e25e34cfd",
   "metadata": {},
   "outputs": [],
   "source": [
    "## Splitting using a specific character"
   ]
  },
  {
   "cell_type": "code",
   "execution_count": 1417,
   "id": "8873f9ec-da92-4754-a089-942fe7b71275",
   "metadata": {},
   "outputs": [
    {
     "name": "stdout",
     "output_type": "stream",
     "text": [
      "['hello', 'world', 'python', 'split']\n"
     ]
    }
   ],
   "source": [
    "text = \"hello|world|python|split\"\n",
    "words = text.split('|')\n",
    "print(words)\n"
   ]
  },
  {
   "cell_type": "code",
   "execution_count": 1419,
   "id": "28ae1fd6-b4a4-488a-b0ef-a74b20f9fbcc",
   "metadata": {},
   "outputs": [],
   "source": [
    "## Splitting with a maximum number of splits"
   ]
  },
  {
   "cell_type": "code",
   "execution_count": 1421,
   "id": "2c5b3f30-9081-474f-99e5-fd1029e28ceb",
   "metadata": {},
   "outputs": [
    {
     "name": "stdout",
     "output_type": "stream",
     "text": [
      "['name', 'age-country']\n"
     ]
    }
   ],
   "source": [
    "data = \"name-age-country\"\n",
    "parts = data.split('-', maxsplit=1)\n",
    "print(parts)"
   ]
  },
  {
   "cell_type": "code",
   "execution_count": 1423,
   "id": "13cf3739-8e93-496a-b50e-a1a33e8e11af",
   "metadata": {},
   "outputs": [],
   "source": [
    "## Splitting a multiline string into line"
   ]
  },
  {
   "cell_type": "code",
   "execution_count": 1425,
   "id": "0685813a-ad3b-47b4-867f-37f92498b949",
   "metadata": {},
   "outputs": [
    {
     "name": "stdout",
     "output_type": "stream",
     "text": [
      "['Line1', 'Line2', 'Line3']\n"
     ]
    }
   ],
   "source": [
    "multiline_text = \"\"\"Line1\n",
    "Line2\n",
    "Line3\"\"\"\n",
    "lines = multiline_text.split(\"\\n\")\n",
    "print(lines) "
   ]
  },
  {
   "cell_type": "markdown",
   "id": "1d46deb5-a41f-4508-96a2-3ae6f66672d0",
   "metadata": {},
   "source": [
    "## splitlines"
   ]
  },
  {
   "cell_type": "code",
   "execution_count": 1444,
   "id": "fb75e424-161f-4788-9800-401ae9ff582c",
   "metadata": {},
   "outputs": [],
   "source": [
    "## Basic usage with a multiline string"
   ]
  },
  {
   "cell_type": "code",
   "execution_count": 1446,
   "id": "6fb0b917-a807-49e7-b5ec-5e5c049209c9",
   "metadata": {},
   "outputs": [
    {
     "name": "stdout",
     "output_type": "stream",
     "text": [
      "['Hello', 'World', 'Python']\n"
     ]
    }
   ],
   "source": [
    "text = \"Hello\\nWorld\\nPython\"\n",
    "lines = text.splitlines()\n",
    "print(lines)"
   ]
  },
  {
   "cell_type": "code",
   "execution_count": 1448,
   "id": "fed3e970-5c8e-4b4f-935c-72db450da0a4",
   "metadata": {},
   "outputs": [],
   "source": [
    "## String with different newline characters"
   ]
  },
  {
   "cell_type": "code",
   "execution_count": 1450,
   "id": "c9a0312c-3879-4d38-bf91-0208e8b80cab",
   "metadata": {},
   "outputs": [
    {
     "name": "stdout",
     "output_type": "stream",
     "text": [
      "['Line1', 'Line2', 'Line3', 'Line4']\n"
     ]
    }
   ],
   "source": [
    "text = \"Line1\\rLine2\\r\\nLine3\\nLine4\"\n",
    "lines = text.splitlines()\n",
    "print(lines) "
   ]
  },
  {
   "cell_type": "code",
   "execution_count": 1453,
   "id": "e20acacc-ddfa-48cf-96e3-08c452811ca9",
   "metadata": {},
   "outputs": [],
   "source": [
    "##  Using splitlines() with keepends=True"
   ]
  },
  {
   "cell_type": "code",
   "execution_count": 1455,
   "id": "34315f37-e9f6-4cac-9e63-740bd63c4b22",
   "metadata": {},
   "outputs": [
    {
     "name": "stdout",
     "output_type": "stream",
     "text": [
      "['Hello\\n', 'World\\n', 'Python']\n"
     ]
    }
   ],
   "source": [
    "text = \"Hello\\nWorld\\nPython\"\n",
    "lines = text.splitlines(keepends=True)\n",
    "print(lines)"
   ]
  },
  {
   "cell_type": "code",
   "execution_count": 1457,
   "id": "a2d01438-860b-4af3-93fa-af1486c9aeeb",
   "metadata": {},
   "outputs": [],
   "source": [
    "##  Empty string case"
   ]
  },
  {
   "cell_type": "code",
   "execution_count": 1459,
   "id": "da3b29b7-84a3-4500-8b4d-6ddd9c1720fd",
   "metadata": {},
   "outputs": [
    {
     "name": "stdout",
     "output_type": "stream",
     "text": [
      "[]\n"
     ]
    }
   ],
   "source": [
    "text = \"\"\n",
    "lines = text.splitlines()\n",
    "print(lines)"
   ]
  },
  {
   "cell_type": "code",
   "execution_count": 1461,
   "id": "8e2b7eb2-1496-4943-afa6-17c9351d4a28",
   "metadata": {},
   "outputs": [],
   "source": [
    "## String without newline characters"
   ]
  },
  {
   "cell_type": "code",
   "execution_count": 1467,
   "id": "6e9d44f4-79fc-4fca-98c0-780cef844d1d",
   "metadata": {},
   "outputs": [
    {
     "name": "stdout",
     "output_type": "stream",
     "text": [
      "['SingleLineString']\n"
     ]
    }
   ],
   "source": [
    "text = \"SingleLineString\"\n",
    "lines = text.splitlines()\n",
    "print(lines)"
   ]
  },
  {
   "cell_type": "markdown",
   "id": "8352aa0f-74a7-4a3e-b70c-2dca3c716503",
   "metadata": {},
   "source": [
    "## startswith"
   ]
  },
  {
   "cell_type": "code",
   "execution_count": 1470,
   "id": "7acc4668-cbea-4d06-81d2-2579f2802d4b",
   "metadata": {},
   "outputs": [],
   "source": [
    "## Basic usage"
   ]
  },
  {
   "cell_type": "code",
   "execution_count": 1487,
   "id": "d6f546ce-d435-41eb-ba90-4e25bfa68aae",
   "metadata": {},
   "outputs": [
    {
     "name": "stdout",
     "output_type": "stream",
     "text": [
      "True\n"
     ]
    }
   ],
   "source": [
    "text = \"Hello, World!\"\n",
    "print(text.startswith(\"Hello\"))"
   ]
  },
  {
   "cell_type": "code",
   "execution_count": 1489,
   "id": "c251db35-9291-4c75-85fd-4daa54a53d4c",
   "metadata": {},
   "outputs": [],
   "source": [
    "## Checking with a different prefix"
   ]
  },
  {
   "cell_type": "code",
   "execution_count": 1491,
   "id": "9ffa7d86-0d45-4ed1-85da-27c67fed87f8",
   "metadata": {},
   "outputs": [
    {
     "name": "stdout",
     "output_type": "stream",
     "text": [
      "False\n"
     ]
    }
   ],
   "source": [
    "print(text.startswith(\"World\"))"
   ]
  },
  {
   "cell_type": "code",
   "execution_count": 1493,
   "id": "e4b38aed-eb0d-4fd3-9c6a-4881e98a3e17",
   "metadata": {},
   "outputs": [],
   "source": [
    "## Using a tuple of prefixes"
   ]
  },
  {
   "cell_type": "code",
   "execution_count": 1495,
   "id": "ac2959ec-6b65-4b5f-9642-433b0cd03c68",
   "metadata": {},
   "outputs": [
    {
     "name": "stdout",
     "output_type": "stream",
     "text": [
      "True\n"
     ]
    }
   ],
   "source": [
    "print(text.startswith((\"Hi\", \"Hello\")))"
   ]
  },
  {
   "cell_type": "code",
   "execution_count": 1497,
   "id": "a567ccdf-9d63-45bb-a449-9a0056f5d98c",
   "metadata": {},
   "outputs": [],
   "source": [
    "## Specifying start and end positions## "
   ]
  },
  {
   "cell_type": "code",
   "execution_count": 1499,
   "id": "461368bc-9707-403a-b9a8-c369c1c2ad09",
   "metadata": {},
   "outputs": [
    {
     "name": "stdout",
     "output_type": "stream",
     "text": [
      "True\n"
     ]
    }
   ],
   "source": [
    "print(text.startswith(\"World\", 7))"
   ]
  },
  {
   "cell_type": "code",
   "execution_count": 1501,
   "id": "51a5f11d-f919-48d8-b3af-e8ecd82dc0f8",
   "metadata": {},
   "outputs": [],
   "source": [
    "## Checking case sensitivity"
   ]
  },
  {
   "cell_type": "code",
   "execution_count": 1503,
   "id": "b7d0059f-251e-487c-a980-769428a2223e",
   "metadata": {},
   "outputs": [
    {
     "name": "stdout",
     "output_type": "stream",
     "text": [
      "False\n"
     ]
    }
   ],
   "source": [
    "print(text.startswith(\"hello\"))"
   ]
  },
  {
   "cell_type": "markdown",
   "id": "ba317d8c-2ff1-4e14-b3a1-7c781822990b",
   "metadata": {},
   "source": [
    "## strip"
   ]
  },
  {
   "cell_type": "code",
   "execution_count": 1523,
   "id": "fb5cfc77-8bb0-4087-aae2-c8a0b504ca7e",
   "metadata": {},
   "outputs": [],
   "source": [
    "## Removing Leading and Trailing Spaces"
   ]
  },
  {
   "cell_type": "code",
   "execution_count": 1525,
   "id": "4b3d8417-ea8b-460b-974a-17f1e5203abb",
   "metadata": {},
   "outputs": [
    {
     "name": "stdout",
     "output_type": "stream",
     "text": [
      "Hello, World!\n"
     ]
    }
   ],
   "source": [
    "text = \"  Hello, World!  \"\n",
    "clean_text = text.strip()\n",
    "print(clean_text)  "
   ]
  },
  {
   "cell_type": "code",
   "execution_count": 1527,
   "id": "c7f952cd-7926-4004-baf5-3f3fbd6e56f3",
   "metadata": {},
   "outputs": [],
   "source": [
    "## Removing Specific Characters"
   ]
  },
  {
   "cell_type": "code",
   "execution_count": 1529,
   "id": "706f2423-3e02-4b57-a954-e2ed319b3a3b",
   "metadata": {},
   "outputs": [
    {
     "name": "stdout",
     "output_type": "stream",
     "text": [
      "Python Programming\n"
     ]
    }
   ],
   "source": [
    "text = \"***Python Programming***\"\n",
    "clean_text = text.strip(\"*\")\n",
    "print(clean_text)  "
   ]
  },
  {
   "cell_type": "code",
   "execution_count": 1531,
   "id": "2ea5255e-d1e0-4cb9-b11f-4f817ffb17ca",
   "metadata": {},
   "outputs": [],
   "source": [
    "## Removing Newline and Tab Characters"
   ]
  },
  {
   "cell_type": "code",
   "execution_count": 1533,
   "id": "7c635006-6e06-4200-aaa1-093e4e07ba71",
   "metadata": {},
   "outputs": [
    {
     "name": "stdout",
     "output_type": "stream",
     "text": [
      "Hello, Jupyter!\n"
     ]
    }
   ],
   "source": [
    "text = \"\\n\\tHello, Jupyter!\\t\\n\"\n",
    "clean_text = text.strip()\n",
    "print(clean_text) "
   ]
  },
  {
   "cell_type": "code",
   "execution_count": 1535,
   "id": "2fc6bb91-b4e4-45ab-9865-3f72c38a8846",
   "metadata": {},
   "outputs": [],
   "source": [
    "## Removing Multiple Characters"
   ]
  },
  {
   "cell_type": "code",
   "execution_count": 1537,
   "id": "08a4efdd-39a1-4d99-88a5-b00eed639719",
   "metadata": {},
   "outputs": [
    {
     "name": "stdout",
     "output_type": "stream",
     "text": [
      "Hello, User\n"
     ]
    }
   ],
   "source": [
    "text = \"!!!Hello, User???\"\n",
    "clean_text = text.strip(\"!?\")\n",
    "print(clean_text)"
   ]
  },
  {
   "cell_type": "code",
   "execution_count": 1539,
   "id": "b55c44ac-01ea-46a8-8ce5-148db85f1f8e",
   "metadata": {},
   "outputs": [],
   "source": [
    "## Using strip() on a List of Strings"
   ]
  },
  {
   "cell_type": "code",
   "execution_count": 1547,
   "id": "88574338-4f8d-48a9-a9d4-5ece887fc25b",
   "metadata": {},
   "outputs": [
    {
     "name": "stdout",
     "output_type": "stream",
     "text": [
      "['apple', 'banana', 'cherry']\n"
     ]
    }
   ],
   "source": [
    "texts = [\"  apple  \", \"\\tbanana\\n\", \"***cherry***\"]\n",
    "clean_texts = [t.strip(\" *\\n\\t\") for t in texts]\n",
    "print(clean_texts)  "
   ]
  },
  {
   "cell_type": "markdown",
   "id": "c9675169-badc-4a99-83d4-16cc8e6e757e",
   "metadata": {},
   "source": [
    "## swapcase"
   ]
  },
  {
   "cell_type": "code",
   "execution_count": 2,
   "id": "b1a7c740-4b0c-45b6-96a7-98419aad0def",
   "metadata": {},
   "outputs": [],
   "source": [
    "#  Simple string"
   ]
  },
  {
   "cell_type": "code",
   "execution_count": 3,
   "id": "a5f04b93-fbee-416a-b9ee-372cdcaace60",
   "metadata": {},
   "outputs": [
    {
     "name": "stdout",
     "output_type": "stream",
     "text": [
      "hELLO wORLD\n"
     ]
    }
   ],
   "source": [
    "text1 = \"Hello World\"\n",
    "print(text1.swapcase())  "
   ]
  },
  {
   "cell_type": "code",
   "execution_count": 6,
   "id": "c2a7c87c-b886-4551-9f0a-4666f4eda229",
   "metadata": {},
   "outputs": [],
   "source": [
    "## Mixed case with numbers and punctuation"
   ]
  },
  {
   "cell_type": "code",
   "execution_count": 7,
   "id": "76ea8ec3-0b0b-46ec-aab9-80b9e70f14af",
   "metadata": {},
   "outputs": [
    {
     "name": "stdout",
     "output_type": "stream",
     "text": [
      "pYTHON3.9 IS awesome!\n"
     ]
    }
   ],
   "source": [
    "text2 = \"Python3.9 is AWESOME!\"\n",
    "print(text2.swapcase())"
   ]
  },
  {
   "cell_type": "code",
   "execution_count": 8,
   "id": "cafcba00-de3b-45cf-b3db-d25697ae10a5",
   "metadata": {},
   "outputs": [],
   "source": [
    "##  All lowercase string"
   ]
  },
  {
   "cell_type": "code",
   "execution_count": 9,
   "id": "738b5d6f-d256-46f4-9e40-b9ae1b466c92",
   "metadata": {},
   "outputs": [
    {
     "name": "stdout",
     "output_type": "stream",
     "text": [
      "THIS IS LOWERCASE\n"
     ]
    }
   ],
   "source": [
    "text3 = \"this is lowercase\"\n",
    "print(text3.swapcase())"
   ]
  },
  {
   "cell_type": "code",
   "execution_count": 10,
   "id": "4c08d31c-1965-490f-be6d-6e9c17b14a47",
   "metadata": {},
   "outputs": [],
   "source": [
    "##  All uppercase string"
   ]
  },
  {
   "cell_type": "code",
   "execution_count": 11,
   "id": "22634e99-3be3-4222-88e5-451a33b12309",
   "metadata": {},
   "outputs": [
    {
     "name": "stdout",
     "output_type": "stream",
     "text": [
      "this is uppercase\n"
     ]
    }
   ],
   "source": [
    "text4 = \"THIS IS UPPERCASE\"\n",
    "print(text4.swapcase()) "
   ]
  },
  {
   "cell_type": "code",
   "execution_count": 12,
   "id": "32531569-9d48-4539-a7c3-d7ce0b3cbc82",
   "metadata": {},
   "outputs": [],
   "source": [
    "## String with special characters"
   ]
  },
  {
   "cell_type": "code",
   "execution_count": 13,
   "id": "9609fbd1-9d08-425b-95a7-e1473333c3b1",
   "metadata": {},
   "outputs": [
    {
     "name": "stdout",
     "output_type": "stream",
     "text": [
      "sWaP#123CaSe!\n"
     ]
    }
   ],
   "source": [
    "text5 = \"SwAp#123cAsE!\"\n",
    "print(text5.swapcase())"
   ]
  },
  {
   "cell_type": "markdown",
   "id": "e40d8dbb-0275-4464-813b-f9b41d9f49dd",
   "metadata": {},
   "source": [
    "## title"
   ]
  },
  {
   "cell_type": "code",
   "execution_count": 27,
   "id": "da61f5b3-71b2-4df1-a972-33e033ce024a",
   "metadata": {},
   "outputs": [],
   "source": [
    "## Basic"
   ]
  },
  {
   "cell_type": "code",
   "execution_count": 29,
   "id": "d7c91bf0-8297-467c-961f-ea22bf03a039",
   "metadata": {},
   "outputs": [
    {
     "name": "stdout",
     "output_type": "stream",
     "text": [
      "Hello World\n"
     ]
    }
   ],
   "source": [
    "text1 = \"hello world\"\n",
    "print(text1.title())"
   ]
  },
  {
   "cell_type": "code",
   "execution_count": 31,
   "id": "b94fd797-8eac-4b9d-bed5-a8549f7d1593",
   "metadata": {},
   "outputs": [
    {
     "name": "stdout",
     "output_type": "stream",
     "text": [
      "Python Programming Language\n"
     ]
    }
   ],
   "source": [
    "text2 = \"python programming language\"\n",
    "print(text2.title()) "
   ]
  },
  {
   "cell_type": "code",
   "execution_count": 33,
   "id": "455b9077-3e2c-4302-9074-b0d40beddfb7",
   "metadata": {},
   "outputs": [
    {
     "name": "stdout",
     "output_type": "stream",
     "text": [
      "123 Go!\n"
     ]
    }
   ],
   "source": [
    "text3 = \"123 go!\"\n",
    "print(text3.title())"
   ]
  },
  {
   "cell_type": "code",
   "execution_count": 44,
   "id": "784ee40e-fce2-44fd-8e0a-ae4d218d7b9a",
   "metadata": {},
   "outputs": [
    {
     "name": "stdout",
     "output_type": "stream",
     "text": [
      "Welcome To The Jungle\n"
     ]
    }
   ],
   "source": [
    "text4 = \"welcome to the jungle\"\n",
    "print(text4.title())"
   ]
  },
  {
   "cell_type": "code",
   "execution_count": 46,
   "id": "1a0df28c-52db-491c-9b90-fcab886c97e4",
   "metadata": {},
   "outputs": [
    {
     "name": "stdout",
     "output_type": "stream",
     "text": [
      "Mixed Case String\n"
     ]
    }
   ],
   "source": [
    "text5 = \"mIXeD CaSe StrInG\"\n",
    "print(text5.title())  "
   ]
  },
  {
   "cell_type": "markdown",
   "id": "653c5361-0f33-4402-8b11-bfd3d3394be6",
   "metadata": {},
   "source": [
    "## translate"
   ]
  },
  {
   "cell_type": "code",
   "execution_count": 49,
   "id": "4818c54c-d968-4494-91b5-b4bb6252c083",
   "metadata": {},
   "outputs": [],
   "source": [
    "## Replace vowels with numbers"
   ]
  },
  {
   "cell_type": "code",
   "execution_count": 51,
   "id": "454ef1d1-65a1-4b53-b4fc-b8e28e5e5c25",
   "metadata": {},
   "outputs": [
    {
     "name": "stdout",
     "output_type": "stream",
     "text": [
      "h2ll4 w4rld\n"
     ]
    }
   ],
   "source": [
    "text = \"hello world\"\n",
    "table = str.maketrans(\"aeiou\", \"12345\")\n",
    "translated = text.translate(table)\n",
    "print(translated)  "
   ]
  },
  {
   "cell_type": "code",
   "execution_count": 53,
   "id": "27333f8c-88a3-47fe-a177-1ac12ce54899",
   "metadata": {},
   "outputs": [],
   "source": [
    "##  Remove punctuation"
   ]
  },
  {
   "cell_type": "code",
   "execution_count": 55,
   "id": "d429ecff-5d56-44c4-b6be-04fe240e909f",
   "metadata": {},
   "outputs": [
    {
     "name": "stdout",
     "output_type": "stream",
     "text": [
      "Hello World Hows everything\n"
     ]
    }
   ],
   "source": [
    "import string\n",
    "\n",
    "text = \"Hello, World! How's everything?\"\n",
    "table = str.maketrans(\"\", \"\", string.punctuation)\n",
    "cleaned = text.translate(table)\n",
    "print(cleaned)  "
   ]
  },
  {
   "cell_type": "code",
   "execution_count": 70,
   "id": "cff557ea-8992-4e7e-8944-a27c85a3935b",
   "metadata": {},
   "outputs": [],
   "source": [
    "## Replace multiple characters at once"
   ]
  },
  {
   "cell_type": "code",
   "execution_count": 72,
   "id": "c5c9a792-e764-423b-9f6e-be4b9fe8e81d",
   "metadata": {},
   "outputs": [
    {
     "name": "stdout",
     "output_type": "stream",
     "text": [
      "@84@c@d@84@\n"
     ]
    }
   ],
   "source": [
    "text = \"abracadabra\"\n",
    "table = str.maketrans({\n",
    "    'a': '@',\n",
    "    'b': '8',\n",
    "    'r': '4'\n",
    "})\n",
    "translated = text.translate(table)\n",
    "print(translated) "
   ]
  },
  {
   "cell_type": "code",
   "execution_count": 74,
   "id": "41a79d82-4209-4810-85da-c97e9fd546cd",
   "metadata": {},
   "outputs": [],
   "source": [
    "## Case conversion using custom mapping"
   ]
  },
  {
   "cell_type": "code",
   "execution_count": 76,
   "id": "d2baab5f-6993-48d9-8769-43106af5d557",
   "metadata": {},
   "outputs": [
    {
     "name": "stdout",
     "output_type": "stream",
     "text": [
      "python\n"
     ]
    }
   ],
   "source": [
    "text = \"Python\"\n",
    "table = str.maketrans(\"PYN\", \"pyn\")\n",
    "translated = text.translate(table)\n",
    "print(translated)  "
   ]
  },
  {
   "cell_type": "code",
   "execution_count": 78,
   "id": "567f211b-9a21-42dd-bbe5-489a4d5ab255",
   "metadata": {},
   "outputs": [],
   "source": [
    "##  Remove digits from a string"
   ]
  },
  {
   "cell_type": "code",
   "execution_count": 80,
   "id": "a4637a67-d43d-496b-8d8d-25548e1f35c3",
   "metadata": {},
   "outputs": [
    {
     "name": "stdout",
     "output_type": "stream",
     "text": [
      "User has  points.\n"
     ]
    }
   ],
   "source": [
    "text = \"User1234 has 5678 points.\"\n",
    "table = str.maketrans(\"\", \"\", \"0123456789\")\n",
    "cleaned = text.translate(table)\n",
    "print(cleaned) "
   ]
  },
  {
   "cell_type": "markdown",
   "id": "6074cdd0-9bce-4136-a3c6-c80d2039c232",
   "metadata": {},
   "source": [
    "## upper"
   ]
  },
  {
   "cell_type": "raw",
   "id": "c2a355b2-f285-4c92-86a6-ecdb0340ef6c",
   "metadata": {},
   "source": [
    "## Basic"
   ]
  },
  {
   "cell_type": "code",
   "execution_count": 96,
   "id": "adf24f5b-8534-4f4f-b957-47bfca2894c9",
   "metadata": {},
   "outputs": [
    {
     "name": "stdout",
     "output_type": "stream",
     "text": [
      "HELLO WORLD\n"
     ]
    }
   ],
   "source": [
    "text = \"hello world\"\n",
    "print(text.upper())  "
   ]
  },
  {
   "cell_type": "code",
   "execution_count": 98,
   "id": "3a538bca-4833-4046-9933-7564b7bcd9f2",
   "metadata": {},
   "outputs": [],
   "source": [
    "## With mixed case"
   ]
  },
  {
   "cell_type": "code",
   "execution_count": 100,
   "id": "859ee408-b999-49a1-9369-f1c04987f104",
   "metadata": {},
   "outputs": [
    {
     "name": "stdout",
     "output_type": "stream",
     "text": [
      "HELLO PYTHON\n"
     ]
    }
   ],
   "source": [
    "greeting = \"HeLLo PyThOn\"\n",
    "upper_greeting = greeting.upper()\n",
    "print(upper_greeting)  "
   ]
  },
  {
   "cell_type": "code",
   "execution_count": 106,
   "id": "9533300d-a1cd-401d-9dc5-c88b37d0e923",
   "metadata": {},
   "outputs": [],
   "source": [
    "## With user input "
   ]
  },
  {
   "cell_type": "code",
   "execution_count": null,
   "id": "db1c6c53-ac0c-418f-acf3-4200d862589b",
   "metadata": {},
   "outputs": [],
   "source": [
    "user_input = input(\"Enter something: \") \n",
    "print(\"Uppercase version:\", user_input.upper())"
   ]
  },
  {
   "cell_type": "code",
   "execution_count": null,
   "id": "70f873c5-221f-4224-ad39-00f66584897f",
   "metadata": {},
   "outputs": [],
   "source": [
    "## In a list comprehension"
   ]
  },
  {
   "cell_type": "code",
   "execution_count": null,
   "id": "d13c4460-86cc-4f91-98a2-c7e5810bd5e0",
   "metadata": {},
   "outputs": [],
   "source": [
    "words = [\"apple\", \"banana\", \"cherry\"]\n",
    "upper_words = [word.upper() for word in words]\n",
    "print(upper_words)  "
   ]
  },
  {
   "cell_type": "code",
   "execution_count": null,
   "id": "2e16745a-243a-4e8f-a92e-98172dd9b51b",
   "metadata": {},
   "outputs": [],
   "source": []
  }
 ],
 "metadata": {
  "kernelspec": {
   "display_name": "Python [conda env:base] *",
   "language": "python",
   "name": "conda-base-py"
  },
  "language_info": {
   "codemirror_mode": {
    "name": "ipython",
    "version": 3
   },
   "file_extension": ".py",
   "mimetype": "text/x-python",
   "name": "python",
   "nbconvert_exporter": "python",
   "pygments_lexer": "ipython3",
   "version": "3.12.7"
  }
 },
 "nbformat": 4,
 "nbformat_minor": 5
}
