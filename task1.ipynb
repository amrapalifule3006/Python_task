{
 "cells": [
  {
   "cell_type": "markdown",
   "id": "50122cd3-91be-4c10-8c30-8730f9446249",
   "metadata": {},
   "source": [
    "## THIS IS ITALIC"
   ]
  },
  {
   "cell_type": "markdown",
   "id": "048263a0-4993-4692-9612-51e2155b37f5",
   "metadata": {},
   "source": [
    "*ITALIC*"
   ]
  },
  {
   "cell_type": "markdown",
   "id": "e6c29967-9ea0-4dab-948c-bd3db0199a8c",
   "metadata": {},
   "source": [
    "## THIS IS BOLD"
   ]
  },
  {
   "cell_type": "markdown",
   "id": "f7460bb5-7b99-4736-a6ca-fcab6b45bc62",
   "metadata": {},
   "source": [
    "**BOLD**\n",
    "\n"
   ]
  },
  {
   "cell_type": "markdown",
   "id": "b2fbdd44-bfe8-4ad6-b523-6ba1226499da",
   "metadata": {},
   "source": [
    "## THIS IS STRIKETHROUGH "
   ]
  },
  {
   "cell_type": "markdown",
   "id": "1b00b861-989d-4a5e-851a-90e1386350a2",
   "metadata": {},
   "source": [
    "~~Strikethrough~~"
   ]
  },
  {
   "cell_type": "markdown",
   "id": "652edabf-7f0d-4449-b1a2-1d6fd0e0a167",
   "metadata": {},
   "source": [
    "### BOLD ITALIC"
   ]
  },
  {
   "cell_type": "markdown",
   "id": "78a1d754-ef01-4032-842e-11e0ba9103b6",
   "metadata": {},
   "source": [
    "**_Bold italic_**"
   ]
  },
  {
   "cell_type": "markdown",
   "id": "271fe359-c447-46ba-9a79-45c062690dc9",
   "metadata": {},
   "source": [
    "## Text styling"
   ]
  },
  {
   "cell_type": "markdown",
   "id": "212d206f-dbb8-4fa3-a07a-d42b46411d9d",
   "metadata": {},
   "source": [
    "Your custom text"
   ]
  },
  {
   "cell_type": "markdown",
   "id": "2d184ad3-804f-440c-b557-4248a05663c7",
   "metadata": {},
   "source": [
    "### Ordered lists"
   ]
  },
  {
   "cell_type": "markdown",
   "id": "2315cae8-2227-4523-9c36-7627a5138771",
   "metadata": {},
   "source": [
    "1. Item 1\n",
    "2. Item 2\n",
    "3. Item 3"
   ]
  },
  {
   "cell_type": "markdown",
   "id": "25193c3d-6d3b-4106-ab4c-9b10924005a2",
   "metadata": {},
   "source": [
    "### Unordered lists"
   ]
  },
  {
   "cell_type": "markdown",
   "id": "e7b0931c-e697-4a5a-a032-6766ccd7e50c",
   "metadata": {},
   "source": [
    "- Item 1\n",
    "- Item 2\n",
    "- Item 3"
   ]
  },
  {
   "cell_type": "markdown",
   "id": "b2d387e4-b5bc-486f-910f-71029367a160",
   "metadata": {},
   "source": [
    "### Blockquotes"
   ]
  },
  {
   "cell_type": "markdown",
   "id": "db4a1333-2c8f-497d-9433-569c19da6603",
   "metadata": {},
   "source": [
    ">THIS IS DA CLASS 15"
   ]
  },
  {
   "cell_type": "markdown",
   "id": "890bc495-27cc-4624-ac36-512eeb37b6c8",
   "metadata": {},
   "source": [
    "### Text lists"
   ]
  },
  {
   "cell_type": "raw",
   "id": "8adf0762-d32d-4f22-82bd-310340f45183",
   "metadata": {},
   "source": [
    " [ ] Wake up\n",
    " [x] Drink MILK"
   ]
  },
  {
   "cell_type": "markdown",
   "id": "9757acab-1396-47dc-b1e3-addf1f0a9b89",
   "metadata": {},
   "source": [
    "- [] Wake up\n",
    "- [x] Drink Milk"
   ]
  },
  {
   "cell_type": "markdown",
   "id": "54efb3f3-bf84-4356-b6b2-ffb380598acd",
   "metadata": {},
   "source": [
    "### line break"
   ]
  },
  {
   "cell_type": "markdown",
   "id": "deefaf8b-db64-41b1-867a-80c29f243275",
   "metadata": {},
   "source": [
    "line \n",
    "break\n",
    "sentance"
   ]
  },
  {
   "cell_type": "markdown",
   "id": "793b99c6-41cb-4317-889f-fe88c5c7c72e",
   "metadata": {},
   "source": [
    "### Horizontal Rule"
   ]
  },
  {
   "cell_type": "raw",
   "id": "6f46307a-5c00-45b7-923e-28085c71312e",
   "metadata": {},
   "source": [
    "--- \n",
    "***\n",
    "------"
   ]
  },
  {
   "cell_type": "markdown",
   "id": "31fdb9bd-a1ba-4ab1-8cfc-e616cd91a885",
   "metadata": {},
   "source": [
    "---\n",
    "***\n",
    "-----"
   ]
  },
  {
   "cell_type": "markdown",
   "id": "b15684ef-827a-4492-b8ea-ef1354fc9d53",
   "metadata": {},
   "source": [
    "### TABLE"
   ]
  },
  {
   "cell_type": "raw",
   "id": "01409003-bc12-49df-b3ed-29c44c160764",
   "metadata": {},
   "source": [
    "|HEADER 1 | HEADER 2 |\n",
    "|---------|----------|\n",
    "| CELL 1  | CELL 2   |\n",
    "| CELL 3  | CELL 4   |\n"
   ]
  },
  {
   "cell_type": "markdown",
   "id": "a19bf8de-a30d-40bf-b1b6-a4b3b9fa65e9",
   "metadata": {},
   "source": [
    "|HEADER 1 | HEADER 2 |\n",
    "|---------|----------|\n",
    "| CELL 1  | CELL 2   |\n",
    "| CELL 3  | CELL 4   |"
   ]
  },
  {
   "cell_type": "markdown",
   "id": "36ae26ac-779e-4017-8995-7e97a10d9232",
   "metadata": {},
   "source": [
    "### Escape Characters"
   ]
  },
  {
   "cell_type": "raw",
   "id": "67d1588d-ad52-4082-9f27-94a84b10aed3",
   "metadata": {},
   "source": [
    "\\*Use an asterisk\\*"
   ]
  },
  {
   "cell_type": "markdown",
   "id": "5b27aabf-19b3-41b4-a138-e2a49f210876",
   "metadata": {},
   "source": [
    "\\*Use an asterisk\\*"
   ]
  },
  {
   "cell_type": "markdown",
   "id": "adc03cb4-21c2-49ee-b793-09ceb7b1792a",
   "metadata": {},
   "source": [
    "### strikethrough "
   ]
  },
  {
   "cell_type": "raw",
   "id": "4f9e17a7-c3c0-4b2a-a473-8c3db9219aea",
   "metadata": {},
   "source": [
    "~~This is strikethrough text.~~"
   ]
  },
  {
   "cell_type": "markdown",
   "id": "83819034-dae5-48e0-9b71-8eb25b67f4ab",
   "metadata": {},
   "source": [
    "~~This is strikethrough text.~~"
   ]
  },
  {
   "cell_type": "markdown",
   "id": "abba89e3-b927-41bb-9b0a-e349af42ea3c",
   "metadata": {},
   "source": [
    "### Code (Inline)"
   ]
  },
  {
   "cell_type": "raw",
   "id": "6620e7d6-0098-4f6c-a221-f956700824e4",
   "metadata": {},
   "source": [
    "Use `print(\"Hello, world!\")` to display text."
   ]
  },
  {
   "cell_type": "markdown",
   "id": "ccd7ce27-ddb1-40c4-b762-a844cccde960",
   "metadata": {},
   "source": [
    "Use `print(\"Hello, world!\")` to display text."
   ]
  },
  {
   "cell_type": "markdown",
   "id": "bad93273-60d4-4782-ba5f-b545b6bc90ac",
   "metadata": {},
   "source": [
    "### Code Block"
   ]
  },
  {
   "cell_type": "raw",
   "id": "2aafcefa-864a-407c-8215-db268bec77f1",
   "metadata": {},
   "source": [
    "\n",
    "def hello():\n",
    "    print(\"Hello, world!\")"
   ]
  },
  {
   "cell_type": "markdown",
   "id": "d0fad70e-9090-46cc-b59a-363c1ea1fe9b",
   "metadata": {},
   "source": [
    "```python\n",
    "def hello():\n",
    "    print(\"Hello, world!\")"
   ]
  },
  {
   "cell_type": "markdown",
   "id": "ab6e8a9d-81c9-40b2-92dc-c80bb6ea1fbd",
   "metadata": {},
   "source": [
    "### Links"
   ]
  },
  {
   "cell_type": "raw",
   "id": "e8293f3b-710a-411a-85c6-2601b1fc612b",
   "metadata": {},
   "source": [
    "[TEXT](URL)"
   ]
  },
  {
   "cell_type": "markdown",
   "id": "71e5a573-7cd2-4fdb-93fd-a9c7006216c4",
   "metadata": {},
   "source": [
    "[GOOGLE](https://www.google.com/)"
   ]
  },
  {
   "cell_type": "markdown",
   "id": "64c32017-daf9-492a-812c-ab502351b2d2",
   "metadata": {},
   "source": [
    "### COLOR"
   ]
  },
  {
   "cell_type": "markdown",
   "id": "3c82a49c-2e47-4554-955f-592e7a98a9a2",
   "metadata": {},
   "source": [
    "<span style=\"color:red\">This text is red.</span>"
   ]
  },
  {
   "cell_type": "code",
   "execution_count": null,
   "id": "ef828f01-b2d6-429c-a17e-d7c3ce3d0971",
   "metadata": {},
   "outputs": [],
   "source": []
  }
 ],
 "metadata": {
  "kernelspec": {
   "display_name": "Python [conda env:base] *",
   "language": "python",
   "name": "conda-base-py"
  },
  "language_info": {
   "codemirror_mode": {
    "name": "ipython",
    "version": 3
   },
   "file_extension": ".py",
   "mimetype": "text/x-python",
   "name": "python",
   "nbconvert_exporter": "python",
   "pygments_lexer": "ipython3",
   "version": "3.12.7"
  }
 },
 "nbformat": 4,
 "nbformat_minor": 5
}
